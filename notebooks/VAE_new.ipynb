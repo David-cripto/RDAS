{
 "cells": [
  {
   "cell_type": "code",
   "execution_count": 1,
   "metadata": {},
   "outputs": [],
   "source": [
    "import torch\n",
    "import torch.nn as nn\n",
    "import torch.nn.functional as F\n",
    "import torch.distributions as TD\n",
    "import torch.optim as optim\n",
    "from torch.distributions import Normal, Bernoulli, Independent\n",
    "import torchvision\n",
    "from torchvision import transforms\n",
    "from torchvision.utils import make_grid\n",
    "from collections import defaultdict\n",
    "from tqdm.notebook import tqdm\n",
    "from typing import List, Union\n",
    "import gc\n",
    "import os\n",
    "import numpy as np\n",
    "from sklearn.datasets import make_regression\n",
    "from sklearn.metrics import r2_score\n",
    "from IPython.display import Image, display\n",
    "from IPython.core.display import HTML\n",
    "from tqdm import tqdm\n",
    "import matplotlib.pyplot as plt\n",
    "%matplotlib inline"
   ]
  },
  {
   "cell_type": "code",
   "execution_count": 2,
   "metadata": {},
   "outputs": [],
   "source": [
    "device='mps'"
   ]
  },
  {
   "cell_type": "markdown",
   "metadata": {},
   "source": [
    "**Our dataset**"
   ]
  },
  {
   "cell_type": "code",
   "execution_count": 3,
   "metadata": {},
   "outputs": [],
   "source": [
    "import sys\n",
    "sys.path.append('../rdas/datasets')\n",
    "# from rdas.datasets.linear import DatasetGenerator\n",
    "import linear as ldsg # Linear dataset generator\n",
    "from torch.utils.data import TensorDataset, DataLoader"
   ]
  },
  {
   "cell_type": "code",
   "execution_count": 4,
   "metadata": {},
   "outputs": [],
   "source": [
    "class ResBlock(nn.Module):\n",
    "    def __init__(self, in_dim: int, out_dim: int):\n",
    "        super().__init__()\n",
    "        self.func = nn.Sequential(\n",
    "            nn.Linear(in_dim, 2*in_dim),\n",
    "            nn.BatchNorm1d(2*in_dim),\n",
    "            nn.ReLU(),\n",
    "            nn.Linear(2*in_dim, out_dim),\n",
    "            nn.BatchNorm1d(out_dim)\n",
    "        )\n",
    "        \n",
    "        self.residual = nn.Linear(in_dim, out_dim) if in_dim != out_dim else nn.Identity()\n",
    "    def forward(self, x):\n",
    "        return self.func(x) + self.residual(x)\n",
    "        \n",
    "\n",
    "class Encoder(nn.Module):\n",
    "    def __init__(self, dim: int, latent_dim: int, intermediate_dim: int):\n",
    "        super().__init__()\n",
    "        self.model = nn.Sequential(\n",
    "            nn.Flatten(),\n",
    "            ResBlock(dim, dim),\n",
    "            ResBlock(dim, intermediate_dim),\n",
    "            ResBlock(intermediate_dim, intermediate_dim),\n",
    "            ResBlock(intermediate_dim, intermediate_dim),\n",
    "            ResBlock(intermediate_dim, 2*latent_dim),\n",
    "        )\n",
    "    def forward(self, x):\n",
    "        return self.model(x)\n",
    "\n",
    "class Decoder(nn.Module):\n",
    "    def __init__(self, dim: int, latent_dim: int, intermediate_dim: int):\n",
    "        super().__init__()\n",
    "        self.model = nn.Sequential(\n",
    "            ResBlock(latent_dim, latent_dim),\n",
    "            ResBlock(latent_dim, intermediate_dim),\n",
    "            ResBlock(intermediate_dim, intermediate_dim),\n",
    "            ResBlock(intermediate_dim, intermediate_dim),\n",
    "            ResBlock(intermediate_dim, dim),\n",
    "        )\n",
    "    def forward(self, z):\n",
    "        return self.model(z)\n",
    "    \n",
    "\n"
   ]
  },
  {
   "cell_type": "code",
   "execution_count": 5,
   "metadata": {},
   "outputs": [],
   "source": [
    "def get_normal_KL(mean_1, log_std_1, mean_2=None, log_std_2=None):\n",
    "    \"\"\"\n",
    "        This function should return the value of KL(p1 || p2),\n",
    "        where p1 = Normal(mean_1, exp(log_std_1)), p2 = Normal(mean_2, exp(log_std_2) ** 2).\n",
    "        If mean_2 and log_std_2 are None values, we will use standard normal distribution.\n",
    "        Note that we consider the case of diagonal covariance matrix.\n",
    "    \"\"\"\n",
    "    if mean_2 is None:\n",
    "        mean_2 = torch.zeros_like(mean_1)\n",
    "    if log_std_2 is None:\n",
    "        log_std_2 = torch.zeros_like(log_std_1)\n",
    "\n",
    "    std_1 = torch.exp(log_std_1)\n",
    "    std_2 = torch.exp(log_std_2)\n",
    "\n",
    "    mean_1, mean_2 = mean_1.float(), mean_2.float()\n",
    "    std_1, std_2  = std_1.float(), std_2.float()\n",
    "\n",
    "    p  = Independent(torch.distributions.Normal(mean_1, std_1), 1)\n",
    "    q  = Independent(torch.distributions.Normal(mean_2, std_2), 1)\n",
    "    kl = torch.distributions.kl_divergence(p, q)\n",
    "\n",
    "    return kl\n",
    "\n",
    "\n",
    "def get_normal_nll(x, mean, log_std):\n",
    "    \"\"\"\n",
    "        This function should return the negative log likelihood log p(x),\n",
    "        where p(x) = Normal(x | mean, exp(log_std) ** 2).\n",
    "        Note that we consider the case of diagonal covariance matrix.\n",
    "    \"\"\"\n",
    "    # ====\n",
    "    mean = mean.float()\n",
    "    std  = torch.exp(log_std).float()\n",
    "\n",
    "    prob = Independent(torch.distributions.Normal(mean, std), reinterpreted_batch_ndims = 1)\n",
    "    nnl = -prob.log_prob(x)\n",
    "    return nnl"
   ]
  },
  {
   "cell_type": "code",
   "execution_count": 6,
   "metadata": {},
   "outputs": [],
   "source": [
    "def train_epoch(model, train_loader, optimizer, use_cuda, loss_key='total'):\n",
    "    model.train()\n",
    "\n",
    "    stats = defaultdict(list)\n",
    "    for x in train_loader:\n",
    "        x = x[0]\n",
    "        if use_cuda:\n",
    "            x = x.cuda()\n",
    "        losses = model.loss(x)\n",
    "        optimizer.zero_grad()\n",
    "        losses[loss_key].backward()\n",
    "        optimizer.step()\n",
    "\n",
    "        for k, v in losses.items():\n",
    "            stats[k].append(v.item())\n",
    "\n",
    "    return stats\n",
    "\n",
    "\n",
    "def eval_model(model, data_loader, use_cuda):\n",
    "    model.eval()\n",
    "    stats = defaultdict(float)\n",
    "    with torch.no_grad():\n",
    "        for x in data_loader:\n",
    "            x = x[0]\n",
    "            if use_cuda:\n",
    "                x = x.cuda()\n",
    "            losses = model.loss(x)\n",
    "            for k, v in losses.items():\n",
    "                stats[k] += v.item() * x.shape[0]\n",
    "\n",
    "        for k in stats.keys():\n",
    "            stats[k] /= len(data_loader.dataset)\n",
    "    return stats\n",
    "\n",
    "\n",
    "def train_model(\n",
    "    model,\n",
    "    train_loader,\n",
    "    test_loader,\n",
    "    epochs,\n",
    "    lr,\n",
    "    use_tqdm=False,\n",
    "    use_cuda=False,\n",
    "    loss_key='total_loss'\n",
    "):\n",
    "    optimizer = optim.Adam(model.parameters(), lr=lr)\n",
    "\n",
    "    train_losses = defaultdict(list)\n",
    "    test_losses = defaultdict(list)\n",
    "    forrange = tqdm(range(epochs)) if use_tqdm else range(epochs)\n",
    "    if use_cuda:\n",
    "        model = model.cuda()\n",
    "\n",
    "    for epoch in forrange:\n",
    "        model.train()\n",
    "        train_loss = train_epoch(model, train_loader, optimizer, use_cuda, loss_key)\n",
    "        test_loss = eval_model(model, test_loader, use_cuda)\n",
    "\n",
    "        for k in train_loss.keys():\n",
    "            train_losses[k].extend(train_loss[k])\n",
    "            test_losses[k].append(test_loss[k])\n",
    "        print(f\"{test_losses['elbo_loss']=}\")\n",
    "        # print(f\"{test_losses['kl_loss']=}\")\n",
    "        # print(f\"{test_losses['recon_loss']=}\")\n",
    "    return dict(train_losses), dict(test_losses)"
   ]
  },
  {
   "cell_type": "code",
   "execution_count": 7,
   "metadata": {},
   "outputs": [],
   "source": [
    "class VAE(nn.Module):\n",
    "    def __init__(self, enc, dec, n_latent, beta=1):\n",
    "        super().__init__()\n",
    "        # assert len(input_shape) == 3\n",
    "\n",
    "        self.beta = beta\n",
    "        self.n_latent = n_latent\n",
    "      \n",
    "        self.encoder = enc\n",
    "        self.decoder = dec\n",
    "\n",
    "    def prior(self, n, use_cuda=False):\n",
    "     \n",
    "        z = torch.randn(n, self.n_latent)\n",
    "        if use_cuda:\n",
    "            z = z.cuda()\n",
    "        return z\n",
    "\n",
    "    def forward(self, x):\n",
    "        mu_z, log_std_z = torch.tensor_split(self.encoder(x), 2, dim = 1)\n",
    "        # print(mu_z.shape, log_std_z.shape, self.prior(x.shape[0]).shape) # (100, 2) (100, 2) (100, 10)\n",
    "        z = mu_z + torch.exp(log_std_z) * self.prior(x.shape[0])\n",
    "        mu_x = self.decoder(z)\n",
    "        return mu_z, log_std_z, mu_x\n",
    "        \n",
    "    def loss(self, x):\n",
    "\n",
    "        mu_z, log_std_z, mu_x = self(x)\n",
    "        recon_loss = torch.mean(get_normal_nll(x, mu_x, torch.zeros_like(mu_x)))\n",
    "        kl_loss = torch.mean(get_normal_KL(mu_z, log_std_z, torch.zeros_like(mu_z), torch.zeros_like(log_std_z)))\n",
    "        elbo_loss = self.beta * kl_loss + recon_loss\n",
    "        dict_loss = {\"recon_loss\": recon_loss, \"kl_loss\":kl_loss, \"elbo_loss\":elbo_loss}\n",
    "        return dict_loss\n",
    "\n",
    "    def sample(self, n):\n",
    "        with torch.no_grad():\n",
    "\n",
    "            x_recon = self.decoder(self.prior(n))\n",
    "            # samples = torch.clamp(x_recon, -1, 1)\n",
    "\n",
    "        return x_recon.cpu().numpy()"
   ]
  },
  {
   "cell_type": "code",
   "execution_count": 82,
   "metadata": {},
   "outputs": [],
   "source": [
    "n_samples = 10000\n",
    "dim_of_space = 3\n",
    "dim_of_manifold = 1\n",
    "\n",
    "d = 2  # dimension of latent space \n",
    "nh =  10 # dinesnions of intermediate representations.\n",
    "D = dim_of_space # dimension of data space\n",
    "\n",
    "generator = ldsg.DatasetGenerator(dim_of_space, dim_of_manifold)\n",
    "dataset = generator.generate_lines_planes(n_samples, 5, 0.01)\n",
    "np.random.shuffle(dataset)\n",
    "\n",
    "test_dataset = TensorDataset(torch.Tensor(dataset[:int(0.2*n_samples)])) \n",
    "train_dataset = TensorDataset(torch.Tensor(dataset[int(0.2*n_samples):])) \n",
    "test_loader = DataLoader(test_dataset, batch_size=300, shuffle=True)\n",
    "train_loader = DataLoader(train_dataset, batch_size=300, shuffle=True)"
   ]
  },
  {
   "cell_type": "code",
   "execution_count": 83,
   "metadata": {},
   "outputs": [],
   "source": [
    "enc = Encoder(D, d, nh)\n",
    "dec = Decoder(D, d, nh)\n",
    "# enc = enc.to(device)\n",
    "# dec = dec.to(device)"
   ]
  },
  {
   "cell_type": "code",
   "execution_count": 88,
   "metadata": {},
   "outputs": [
    {
     "name": "stdout",
     "output_type": "stream",
     "text": [
      "test_losses['elbo_loss']=[6.350688242912293]\n",
      "test_losses['elbo_loss']=[6.350688242912293, 5.715844082832336]\n",
      "test_losses['elbo_loss']=[6.350688242912293, 5.715844082832336, 5.425303220748901]\n",
      "test_losses['elbo_loss']=[6.350688242912293, 5.715844082832336, 5.425303220748901, 5.125409269332886]\n",
      "test_losses['elbo_loss']=[6.350688242912293, 5.715844082832336, 5.425303220748901, 5.125409269332886, 4.928349113464355]\n",
      "test_losses['elbo_loss']=[6.350688242912293, 5.715844082832336, 5.425303220748901, 5.125409269332886, 4.928349113464355, 4.691280126571655]\n",
      "test_losses['elbo_loss']=[6.350688242912293, 5.715844082832336, 5.425303220748901, 5.125409269332886, 4.928349113464355, 4.691280126571655, 4.632868456840515]\n",
      "test_losses['elbo_loss']=[6.350688242912293, 5.715844082832336, 5.425303220748901, 5.125409269332886, 4.928349113464355, 4.691280126571655, 4.632868456840515, 4.46033239364624]\n",
      "test_losses['elbo_loss']=[6.350688242912293, 5.715844082832336, 5.425303220748901, 5.125409269332886, 4.928349113464355, 4.691280126571655, 4.632868456840515, 4.46033239364624, 4.3416478633880615]\n",
      "test_losses['elbo_loss']=[6.350688242912293, 5.715844082832336, 5.425303220748901, 5.125409269332886, 4.928349113464355, 4.691280126571655, 4.632868456840515, 4.46033239364624, 4.3416478633880615, 4.298592877388001]\n",
      "test_losses['elbo_loss']=[6.350688242912293, 5.715844082832336, 5.425303220748901, 5.125409269332886, 4.928349113464355, 4.691280126571655, 4.632868456840515, 4.46033239364624, 4.3416478633880615, 4.298592877388001, 4.212932896614075]\n",
      "test_losses['elbo_loss']=[6.350688242912293, 5.715844082832336, 5.425303220748901, 5.125409269332886, 4.928349113464355, 4.691280126571655, 4.632868456840515, 4.46033239364624, 4.3416478633880615, 4.298592877388001, 4.212932896614075, 4.143243789672852]\n",
      "test_losses['elbo_loss']=[6.350688242912293, 5.715844082832336, 5.425303220748901, 5.125409269332886, 4.928349113464355, 4.691280126571655, 4.632868456840515, 4.46033239364624, 4.3416478633880615, 4.298592877388001, 4.212932896614075, 4.143243789672852, 4.102567028999329]\n",
      "test_losses['elbo_loss']=[6.350688242912293, 5.715844082832336, 5.425303220748901, 5.125409269332886, 4.928349113464355, 4.691280126571655, 4.632868456840515, 4.46033239364624, 4.3416478633880615, 4.298592877388001, 4.212932896614075, 4.143243789672852, 4.102567028999329, 4.08626799583435]\n",
      "test_losses['elbo_loss']=[6.350688242912293, 5.715844082832336, 5.425303220748901, 5.125409269332886, 4.928349113464355, 4.691280126571655, 4.632868456840515, 4.46033239364624, 4.3416478633880615, 4.298592877388001, 4.212932896614075, 4.143243789672852, 4.102567028999329, 4.08626799583435, 4.060433268547058]\n",
      "test_losses['elbo_loss']=[6.350688242912293, 5.715844082832336, 5.425303220748901, 5.125409269332886, 4.928349113464355, 4.691280126571655, 4.632868456840515, 4.46033239364624, 4.3416478633880615, 4.298592877388001, 4.212932896614075, 4.143243789672852, 4.102567028999329, 4.08626799583435, 4.060433268547058, 4.009517657756805]\n",
      "test_losses['elbo_loss']=[6.350688242912293, 5.715844082832336, 5.425303220748901, 5.125409269332886, 4.928349113464355, 4.691280126571655, 4.632868456840515, 4.46033239364624, 4.3416478633880615, 4.298592877388001, 4.212932896614075, 4.143243789672852, 4.102567028999329, 4.08626799583435, 4.060433268547058, 4.009517657756805, 4.007487499713898]\n",
      "test_losses['elbo_loss']=[6.350688242912293, 5.715844082832336, 5.425303220748901, 5.125409269332886, 4.928349113464355, 4.691280126571655, 4.632868456840515, 4.46033239364624, 4.3416478633880615, 4.298592877388001, 4.212932896614075, 4.143243789672852, 4.102567028999329, 4.08626799583435, 4.060433268547058, 4.009517657756805, 4.007487499713898, 3.962859058380127]\n",
      "test_losses['elbo_loss']=[6.350688242912293, 5.715844082832336, 5.425303220748901, 5.125409269332886, 4.928349113464355, 4.691280126571655, 4.632868456840515, 4.46033239364624, 4.3416478633880615, 4.298592877388001, 4.212932896614075, 4.143243789672852, 4.102567028999329, 4.08626799583435, 4.060433268547058, 4.009517657756805, 4.007487499713898, 3.962859058380127, 3.9389904022216795]\n",
      "test_losses['elbo_loss']=[6.350688242912293, 5.715844082832336, 5.425303220748901, 5.125409269332886, 4.928349113464355, 4.691280126571655, 4.632868456840515, 4.46033239364624, 4.3416478633880615, 4.298592877388001, 4.212932896614075, 4.143243789672852, 4.102567028999329, 4.08626799583435, 4.060433268547058, 4.009517657756805, 4.007487499713898, 3.962859058380127, 3.9389904022216795, 3.928285229206085]\n",
      "test_losses['elbo_loss']=[6.350688242912293, 5.715844082832336, 5.425303220748901, 5.125409269332886, 4.928349113464355, 4.691280126571655, 4.632868456840515, 4.46033239364624, 4.3416478633880615, 4.298592877388001, 4.212932896614075, 4.143243789672852, 4.102567028999329, 4.08626799583435, 4.060433268547058, 4.009517657756805, 4.007487499713898, 3.962859058380127, 3.9389904022216795, 3.928285229206085, 3.9952468395233156]\n",
      "test_losses['elbo_loss']=[6.350688242912293, 5.715844082832336, 5.425303220748901, 5.125409269332886, 4.928349113464355, 4.691280126571655, 4.632868456840515, 4.46033239364624, 4.3416478633880615, 4.298592877388001, 4.212932896614075, 4.143243789672852, 4.102567028999329, 4.08626799583435, 4.060433268547058, 4.009517657756805, 4.007487499713898, 3.962859058380127, 3.9389904022216795, 3.928285229206085, 3.9952468395233156, 3.9538588643074037]\n",
      "test_losses['elbo_loss']=[6.350688242912293, 5.715844082832336, 5.425303220748901, 5.125409269332886, 4.928349113464355, 4.691280126571655, 4.632868456840515, 4.46033239364624, 4.3416478633880615, 4.298592877388001, 4.212932896614075, 4.143243789672852, 4.102567028999329, 4.08626799583435, 4.060433268547058, 4.009517657756805, 4.007487499713898, 3.962859058380127, 3.9389904022216795, 3.928285229206085, 3.9952468395233156, 3.9538588643074037, 3.9370898723602297]\n",
      "test_losses['elbo_loss']=[6.350688242912293, 5.715844082832336, 5.425303220748901, 5.125409269332886, 4.928349113464355, 4.691280126571655, 4.632868456840515, 4.46033239364624, 4.3416478633880615, 4.298592877388001, 4.212932896614075, 4.143243789672852, 4.102567028999329, 4.08626799583435, 4.060433268547058, 4.009517657756805, 4.007487499713898, 3.962859058380127, 3.9389904022216795, 3.928285229206085, 3.9952468395233156, 3.9538588643074037, 3.9370898723602297, 3.9343777179718016]\n",
      "test_losses['elbo_loss']=[6.350688242912293, 5.715844082832336, 5.425303220748901, 5.125409269332886, 4.928349113464355, 4.691280126571655, 4.632868456840515, 4.46033239364624, 4.3416478633880615, 4.298592877388001, 4.212932896614075, 4.143243789672852, 4.102567028999329, 4.08626799583435, 4.060433268547058, 4.009517657756805, 4.007487499713898, 3.962859058380127, 3.9389904022216795, 3.928285229206085, 3.9952468395233156, 3.9538588643074037, 3.9370898723602297, 3.9343777179718016, 3.8861180424690245]\n",
      "test_losses['elbo_loss']=[6.350688242912293, 5.715844082832336, 5.425303220748901, 5.125409269332886, 4.928349113464355, 4.691280126571655, 4.632868456840515, 4.46033239364624, 4.3416478633880615, 4.298592877388001, 4.212932896614075, 4.143243789672852, 4.102567028999329, 4.08626799583435, 4.060433268547058, 4.009517657756805, 4.007487499713898, 3.962859058380127, 3.9389904022216795, 3.928285229206085, 3.9952468395233156, 3.9538588643074037, 3.9370898723602297, 3.9343777179718016, 3.8861180424690245, 3.912023961544037]\n",
      "test_losses['elbo_loss']=[6.350688242912293, 5.715844082832336, 5.425303220748901, 5.125409269332886, 4.928349113464355, 4.691280126571655, 4.632868456840515, 4.46033239364624, 4.3416478633880615, 4.298592877388001, 4.212932896614075, 4.143243789672852, 4.102567028999329, 4.08626799583435, 4.060433268547058, 4.009517657756805, 4.007487499713898, 3.962859058380127, 3.9389904022216795, 3.928285229206085, 3.9952468395233156, 3.9538588643074037, 3.9370898723602297, 3.9343777179718016, 3.8861180424690245, 3.912023961544037, 3.9217270731925966]\n",
      "test_losses['elbo_loss']=[6.350688242912293, 5.715844082832336, 5.425303220748901, 5.125409269332886, 4.928349113464355, 4.691280126571655, 4.632868456840515, 4.46033239364624, 4.3416478633880615, 4.298592877388001, 4.212932896614075, 4.143243789672852, 4.102567028999329, 4.08626799583435, 4.060433268547058, 4.009517657756805, 4.007487499713898, 3.962859058380127, 3.9389904022216795, 3.928285229206085, 3.9952468395233156, 3.9538588643074037, 3.9370898723602297, 3.9343777179718016, 3.8861180424690245, 3.912023961544037, 3.9217270731925966, 3.9350602269172668]\n",
      "test_losses['elbo_loss']=[6.350688242912293, 5.715844082832336, 5.425303220748901, 5.125409269332886, 4.928349113464355, 4.691280126571655, 4.632868456840515, 4.46033239364624, 4.3416478633880615, 4.298592877388001, 4.212932896614075, 4.143243789672852, 4.102567028999329, 4.08626799583435, 4.060433268547058, 4.009517657756805, 4.007487499713898, 3.962859058380127, 3.9389904022216795, 3.928285229206085, 3.9952468395233156, 3.9538588643074037, 3.9370898723602297, 3.9343777179718016, 3.8861180424690245, 3.912023961544037, 3.9217270731925966, 3.9350602269172668, 3.902200663089752]\n",
      "test_losses['elbo_loss']=[6.350688242912293, 5.715844082832336, 5.425303220748901, 5.125409269332886, 4.928349113464355, 4.691280126571655, 4.632868456840515, 4.46033239364624, 4.3416478633880615, 4.298592877388001, 4.212932896614075, 4.143243789672852, 4.102567028999329, 4.08626799583435, 4.060433268547058, 4.009517657756805, 4.007487499713898, 3.962859058380127, 3.9389904022216795, 3.928285229206085, 3.9952468395233156, 3.9538588643074037, 3.9370898723602297, 3.9343777179718016, 3.8861180424690245, 3.912023961544037, 3.9217270731925966, 3.9350602269172668, 3.902200663089752, 3.917282450199127]\n"
     ]
    }
   ],
   "source": [
    "BATCH_SIZE = 1000 # any adequate value\n",
    "EPOCHS = 30   # < 16\n",
    "LR = 0.3*1e-3         # < 1e-3\n",
    "BETA = 1       # 0.1 < _ < 10\n",
    "\n",
    "model = VAE(enc, dec, d)\n",
    "\n",
    "train_losses, test_losses = train_model(\n",
    "    model, \n",
    "    train_loader, \n",
    "    test_loader, \n",
    "    epochs=EPOCHS, \n",
    "    lr=LR, \n",
    "    loss_key='elbo_loss', \n",
    "    use_tqdm=False, \n",
    "    use_cuda=False, \n",
    ")"
   ]
  },
  {
   "cell_type": "code",
   "execution_count": 89,
   "metadata": {},
   "outputs": [],
   "source": [
    "smpls = model.sample(100)"
   ]
  },
  {
   "cell_type": "code",
   "execution_count": 90,
   "metadata": {},
   "outputs": [
    {
     "data": {
      "image/png": "[encoded data removed]",
      "text/plain": [
       "<Figure size 640x480 with 1 Axes>"
      ]
     },
     "metadata": {},
     "output_type": "display_data"
    }
   ],
   "source": [
    "import matplotlib.pyplot as plt\n",
    "from mpl_toolkits.mplot3d import Axes3D\n",
    "import seaborn as sns\n",
    "\n",
    "sns.set()\n",
    "\n",
    "fig = plt.figure()\n",
    "ax = fig.add_subplot(111, projection='3d')\n",
    "ds = dataset[:500]\n",
    "ax.scatter(ds[:, 0], ds[:, 1], ds[:, 2], marker='o', label='Generated Points')\n",
    "\n",
    "ax.scatter(smpls[:, 0], smpls[:, 1], smpls[:, 2], marker='x', label='Generated Points')\n",
    "\n",
    "ax.set_xlabel('X-axis')\n",
    "ax.set_ylabel('Y-axis')\n",
    "ax.set_zlabel('Z-axis')\n",
    "ax.legend()\n",
    "\n",
    "plt.show()"
   ]
  },
  {
   "cell_type": "code",
   "execution_count": 91,
   "metadata": {},
   "outputs": [
    {
     "data": {
      "application/vnd.plotly.v1+json": {
       "config": {
        "plotlyServerURL": "https://plot.ly"
       },
       "data": [
        {
         "hovertemplate": "x=%{x}<br>y=%{y}<br>z=%{z}<extra></extra>",
         "legendgroup": "",
         "marker": {
          "color": "#636efa",
          "symbol": "circle"
         },
         "mode": "markers",
         "name": "",
         "scene": "scene",
         "showlegend": false,
         "type": "scatter3d",
         "x": [
          1.124587893486023,
          2.1854429244995117,
          1.4236094951629639,
          2.4496047496795654,
          1.042218565940857,
          1.7818740606307983,
          2.4344258308410645,
          2.137359857559204,
          1.046069622039795,
          2.190577507019043,
          2.156130313873291,
          0.7519626617431641,
          2.462718963623047,
          2.1320924758911133,
          1.5144850015640259,
          0.992234468460083,
          2.5089738368988037,
          1.369598627090454,
          1.366945505142212,
          1.02764093875885,
          2.7241196632385254,
          1.5237195491790771,
          1.9277302026748657,
          2.297170877456665,
          1.0859177112579346,
          2.464277744293213,
          2.505129098892212,
          2.6134109497070312,
          2.5213279724121094,
          2.275355339050293,
          2.083833932876587,
          1.9925873279571533,
          2.4338572025299072,
          2.5717248916625977,
          2.056607723236084,
          2.6341824531555176,
          1.5389738082885742,
          1.7977546453475952,
          1.7138937711715698,
          2.174929618835449,
          2.4381141662597656,
          2.197880506515503,
          1.298276424407959,
          1.06255042552948,
          1.395843744277954,
          1.3955050706863403,
          1.4355549812316895,
          1.604744553565979,
          0.7850985527038574,
          2.468282461166382,
          2.4209136962890625,
          1.2952260971069336,
          1.7750251293182373,
          2.2376105785369873,
          1.3996437788009644,
          1.3583288192749023,
          1.230272650718689,
          1.3824119567871094,
          1.3360397815704346,
          1.445720911026001,
          1.0076512098312378,
          2.2183425426483154,
          1.5163829326629639,
          1.6609468460083008,
          2.4600043296813965,
          0.9963177442550659,
          1.6373671293258667,
          1.594606637954712,
          1.316463589668274,
          1.085605502128601,
          1.938631296157837,
          2.4236562252044678,
          1.2247809171676636,
          1.0755935907363892,
          1.5463149547576904,
          2.5706734657287598,
          1.373337984085083,
          1.0851842164993286,
          1.4518232345581055,
          1.1709723472595215,
          1.6208724975585938,
          1.3621015548706055,
          2.3665995597839355,
          1.1317908763885498,
          1.5714730024337769,
          2.2678487300872803,
          2.1343109607696533,
          1.7509695291519165,
          2.311365842819214,
          2.5978634357452393,
          2.385300397872925,
          2.207254409790039,
          1.7394384145736694,
          1.8436155319213867,
          1.6106048822402954,
          1.364619493484497,
          1.4565379619598389,
          1.9919418096542358,
          1.891933798789978,
          2.5174810886383057
         ],
         "y": [
          1.524916172027588,
          3.730903148651123,
          2.169219970703125,
          4.996016979217529,
          1.5000391006469727,
          2.9640614986419678,
          4.671684741973877,
          3.772045850753784,
          1.4444067478179932,
          3.8561737537384033,
          3.821009397506714,
          0.77510666847229,
          4.590389251708984,
          3.745945453643799,
          2.339141368865967,
          1.1806812286376953,
          4.538486003875732,
          2.0373482704162598,
          1.9954707622528076,
          1.4484610557556152,
          4.939302444458008,
          2.457514762878418,
          3.238698959350586,
          4.117608547210693,
          1.6491177082061768,
          4.578792095184326,
          4.649418354034424,
          4.7325639724731445,
          4.83760404586792,
          4.038086414337158,
          3.6395764350891113,
          3.4555444717407227,
          4.45979642868042,
          4.64738655090332,
          3.558911085128784,
          4.738065242767334,
          2.4495487213134766,
          2.9956629276275635,
          2.803039073944092,
          3.7459094524383545,
          4.711711406707764,
          3.8887341022491455,
          1.7353901863098145,
          1.5870134830474854,
          2.332797050476074,
          2.354687452316284,
          2.1954517364501953,
          2.712114095687866,
          0.910470724105835,
          4.518721103668213,
          4.479923725128174,
          1.9230295419692993,
          2.9496076107025146,
          3.9453330039978027,
          2.0826940536499023,
          1.9146414995193481,
          1.6118059158325195,
          2.08597993850708,
          2.038935422897339,
          2.158952474594116,
          1.3251373767852783,
          3.940420627593994,
          2.3822615146636963,
          2.7920215129852295,
          4.49758243560791,
          1.3174997568130493,
          2.7384026050567627,
          2.8303449153900146,
          1.940154790878296,
          1.5534319877624512,
          3.350654125213623,
          4.4652299880981445,
          1.8495280742645264,
          1.5903345346450806,
          2.5560781955718994,
          4.6606221199035645,
          1.9891445636749268,
          1.650191307067871,
          2.260251998901367,
          1.808417797088623,
          2.763962745666504,
          2.016749382019043,
          4.341843128204346,
          1.572831630706787,
          2.492816925048828,
          4.050293922424316,
          3.76977276802063,
          3.041517734527588,
          4.070289134979248,
          4.690151214599609,
          4.555986404418945,
          4.176708221435547,
          3.0202600955963135,
          3.0881989002227783,
          2.6588969230651855,
          2.00362229347229,
          2.328890800476074,
          3.37429141998291,
          3.265265941619873,
          4.59449577331543
         ],
         "z": [
          1.699507713317871,
          3.4610443115234375,
          2.1845319271087646,
          4.769014835357666,
          1.6146256923675537,
          2.9616575241088867,
          4.289736747741699,
          3.5147924423217773,
          1.5662305355072021,
          3.6478638648986816,
          3.604443073272705,
          1.0529221296310425,
          4.265328884124756,
          3.531846761703491,
          2.250608444213867,
          1.3694581985473633,
          4.3665385246276855,
          2.037092685699463,
          2.0642755031585693,
          1.5719444751739502,
          4.608432769775391,
          2.3551077842712402,
          3.1114745140075684,
          3.8071985244750977,
          1.7102398872375488,
          4.337182998657227,
          4.4439377784729,
          4.464724540710449,
          4.501995086669922,
          3.8125674724578857,
          3.489898204803467,
          3.2242279052734375,
          4.1687331199646,
          4.312856197357178,
          3.305016040802002,
          4.453948020935059,
          2.3655357360839844,
          2.87686824798584,
          2.698762893676758,
          3.553673028945923,
          4.371738910675049,
          3.6006088256835938,
          1.8995397090911865,
          1.6852304935455322,
          2.506342887878418,
          2.4800586700439453,
          2.191330671310425,
          2.5788803100585938,
          1.127585530281067,
          4.211614608764648,
          4.150969505310059,
          1.9850966930389404,
          2.9668116569519043,
          3.7539939880371094,
          2.125283718109131,
          1.9977315664291382,
          1.8291144371032715,
          2.106158494949341,
          2.095144748687744,
          2.1981565952301025,
          1.648339867591858,
          3.690281391143799,
          2.4141645431518555,
          2.838526725769043,
          4.189425468444824,
          1.5188438892364502,
          2.643751859664917,
          2.6924479007720947,
          2.031985282897949,
          1.6199638843536377,
          3.157963275909424,
          4.162849426269531,
          1.9517861604690552,
          1.672747015953064,
          2.5605199337005615,
          4.386582851409912,
          2.062169075012207,
          1.707865834236145,
          2.251478672027588,
          1.91439950466156,
          2.7524569034576416,
          2.058584451675415,
          4.004312038421631,
          1.6062579154968262,
          2.396833896636963,
          3.8295106887817383,
          3.50016713142395,
          2.9750139713287354,
          3.7967262268066406,
          4.495687007904053,
          4.186733245849609,
          3.8797762393951416,
          2.825754165649414,
          3.0166943073272705,
          2.6600377559661865,
          1.9236676692962646,
          2.3230035305023193,
          3.1735777854919434,
          3.1202991008758545,
          4.358127117156982
         ]
        }
       ],
       "layout": {
        "legend": {
         "tracegroupgap": 0
        },
        "margin": {
         "t": 60
        },
        "scene": {
         "domain": {
          "x": [
           0,
           1
          ],
          "y": [
           0,
           1
          ]
         },
         "xaxis": {
          "title": {
           "text": "x"
          }
         },
         "yaxis": {
          "title": {
           "text": "y"
          }
         },
         "zaxis": {
          "title": {
           "text": "z"
          }
         }
        },
        "template": {
         "data": {
          "bar": [
           {
            "error_x": {
             "color": "#2a3f5f"
            },
            "error_y": {
             "color": "#2a3f5f"
            },
            "marker": {
             "line": {
              "color": "#E5ECF6",
              "width": 0.5
             },
             "pattern": {
              "fillmode": "overlay",
              "size": 10,
              "solidity": 0.2
             }
            },
            "type": "bar"
           }
          ],
          "barpolar": [
           {
            "marker": {
             "line": {
              "color": "#E5ECF6",
              "width": 0.5
             },
             "pattern": {
              "fillmode": "overlay",
              "size": 10,
              "solidity": 0.2
             }
            },
            "type": "barpolar"
           }
          ],
          "carpet": [
           {
            "aaxis": {
             "endlinecolor": "#2a3f5f",
             "gridcolor": "white",
             "linecolor": "white",
             "minorgridcolor": "white",
             "startlinecolor": "#2a3f5f"
            },
            "baxis": {
             "endlinecolor": "#2a3f5f",
             "gridcolor": "white",
             "linecolor": "white",
             "minorgridcolor": "white",
             "startlinecolor": "#2a3f5f"
            },
            "type": "carpet"
           }
          ],
          "choropleth": [
           {
            "colorbar": {
             "outlinewidth": 0,
             "ticks": ""
            },
            "type": "choropleth"
           }
          ],
          "contour": [
           {
            "colorbar": {
             "outlinewidth": 0,
             "ticks": ""
            },
            "colorscale": [
             [
              0,
              "#0d0887"
             ],
             [
              0.1111111111111111,
              "#46039f"
             ],
             [
              0.2222222222222222,
              "#7201a8"
             ],
             [
              0.3333333333333333,
              "#9c179e"
             ],
             [
              0.4444444444444444,
              "#bd3786"
             ],
             [
              0.5555555555555556,
              "#d8576b"
             ],
             [
              0.6666666666666666,
              "#ed7953"
             ],
             [
              0.7777777777777778,
              "#fb9f3a"
             ],
             [
              0.8888888888888888,
              "#fdca26"
             ],
             [
              1,
              "#f0f921"
             ]
            ],
            "type": "contour"
           }
          ],
          "contourcarpet": [
           {
            "colorbar": {
             "outlinewidth": 0,
             "ticks": ""
            },
            "type": "contourcarpet"
           }
          ],
          "heatmap": [
           {
            "colorbar": {
             "outlinewidth": 0,
             "ticks": ""
            },
            "colorscale": [
             [
              0,
              "#0d0887"
             ],
             [
              0.1111111111111111,
              "#46039f"
             ],
             [
              0.2222222222222222,
              "#7201a8"
             ],
             [
              0.3333333333333333,
              "#9c179e"
             ],
             [
              0.4444444444444444,
              "#bd3786"
             ],
             [
              0.5555555555555556,
              "#d8576b"
             ],
             [
              0.6666666666666666,
              "#ed7953"
             ],
             [
              0.7777777777777778,
              "#fb9f3a"
             ],
             [
              0.8888888888888888,
              "#fdca26"
             ],
             [
              1,
              "#f0f921"
             ]
            ],
            "type": "heatmap"
           }
          ],
          "heatmapgl": [
           {
            "colorbar": {
             "outlinewidth": 0,
             "ticks": ""
            },
            "colorscale": [
             [
              0,
              "#0d0887"
             ],
             [
              0.1111111111111111,
              "#46039f"
             ],
             [
              0.2222222222222222,
              "#7201a8"
             ],
             [
              0.3333333333333333,
              "#9c179e"
             ],
             [
              0.4444444444444444,
              "#bd3786"
             ],
             [
              0.5555555555555556,
              "#d8576b"
             ],
             [
              0.6666666666666666,
              "#ed7953"
             ],
             [
              0.7777777777777778,
              "#fb9f3a"
             ],
             [
              0.8888888888888888,
              "#fdca26"
             ],
             [
              1,
              "#f0f921"
             ]
            ],
            "type": "heatmapgl"
           }
          ],
          "histogram": [
           {
            "marker": {
             "pattern": {
              "fillmode": "overlay",
              "size": 10,
              "solidity": 0.2
             }
            },
            "type": "histogram"
           }
          ],
          "histogram2d": [
           {
            "colorbar": {
             "outlinewidth": 0,
             "ticks": ""
            },
            "colorscale": [
             [
              0,
              "#0d0887"
             ],
             [
              0.1111111111111111,
              "#46039f"
             ],
             [
              0.2222222222222222,
              "#7201a8"
             ],
             [
              0.3333333333333333,
              "#9c179e"
             ],
             [
              0.4444444444444444,
              "#bd3786"
             ],
             [
              0.5555555555555556,
              "#d8576b"
             ],
             [
              0.6666666666666666,
              "#ed7953"
             ],
             [
              0.7777777777777778,
              "#fb9f3a"
             ],
             [
              0.8888888888888888,
              "#fdca26"
             ],
             [
              1,
              "#f0f921"
             ]
            ],
            "type": "histogram2d"
           }
          ],
          "histogram2dcontour": [
           {
            "colorbar": {
             "outlinewidth": 0,
             "ticks": ""
            },
            "colorscale": [
             [
              0,
              "#0d0887"
             ],
             [
              0.1111111111111111,
              "#46039f"
             ],
             [
              0.2222222222222222,
              "#7201a8"
             ],
             [
              0.3333333333333333,
              "#9c179e"
             ],
             [
              0.4444444444444444,
              "#bd3786"
             ],
             [
              0.5555555555555556,
              "#d8576b"
             ],
             [
              0.6666666666666666,
              "#ed7953"
             ],
             [
              0.7777777777777778,
              "#fb9f3a"
             ],
             [
              0.8888888888888888,
              "#fdca26"
             ],
             [
              1,
              "#f0f921"
             ]
            ],
            "type": "histogram2dcontour"
           }
          ],
          "mesh3d": [
           {
            "colorbar": {
             "outlinewidth": 0,
             "ticks": ""
            },
            "type": "mesh3d"
           }
          ],
          "parcoords": [
           {
            "line": {
             "colorbar": {
              "outlinewidth": 0,
              "ticks": ""
             }
            },
            "type": "parcoords"
           }
          ],
          "pie": [
           {
            "automargin": true,
            "type": "pie"
           }
          ],
          "scatter": [
           {
            "fillpattern": {
             "fillmode": "overlay",
             "size": 10,
             "solidity": 0.2
            },
            "type": "scatter"
           }
          ],
          "scatter3d": [
           {
            "line": {
             "colorbar": {
              "outlinewidth": 0,
              "ticks": ""
             }
            },
            "marker": {
             "colorbar": {
              "outlinewidth": 0,
              "ticks": ""
             }
            },
            "type": "scatter3d"
           }
          ],
          "scattercarpet": [
           {
            "marker": {
             "colorbar": {
              "outlinewidth": 0,
              "ticks": ""
             }
            },
            "type": "scattercarpet"
           }
          ],
          "scattergeo": [
           {
            "marker": {
             "colorbar": {
              "outlinewidth": 0,
              "ticks": ""
             }
            },
            "type": "scattergeo"
           }
          ],
          "scattergl": [
           {
            "marker": {
             "colorbar": {
              "outlinewidth": 0,
              "ticks": ""
             }
            },
            "type": "scattergl"
           }
          ],
          "scattermapbox": [
           {
            "marker": {
             "colorbar": {
              "outlinewidth": 0,
              "ticks": ""
             }
            },
            "type": "scattermapbox"
           }
          ],
          "scatterpolar": [
           {
            "marker": {
             "colorbar": {
              "outlinewidth": 0,
              "ticks": ""
             }
            },
            "type": "scatterpolar"
           }
          ],
          "scatterpolargl": [
           {
            "marker": {
             "colorbar": {
              "outlinewidth": 0,
              "ticks": ""
             }
            },
            "type": "scatterpolargl"
           }
          ],
          "scatterternary": [
           {
            "marker": {
             "colorbar": {
              "outlinewidth": 0,
              "ticks": ""
             }
            },
            "type": "scatterternary"
           }
          ],
          "surface": [
           {
            "colorbar": {
             "outlinewidth": 0,
             "ticks": ""
            },
            "colorscale": [
             [
              0,
              "#0d0887"
             ],
             [
              0.1111111111111111,
              "#46039f"
             ],
             [
              0.2222222222222222,
              "#7201a8"
             ],
             [
              0.3333333333333333,
              "#9c179e"
             ],
             [
              0.4444444444444444,
              "#bd3786"
             ],
             [
              0.5555555555555556,
              "#d8576b"
             ],
             [
              0.6666666666666666,
              "#ed7953"
             ],
             [
              0.7777777777777778,
              "#fb9f3a"
             ],
             [
              0.8888888888888888,
              "#fdca26"
             ],
             [
              1,
              "#f0f921"
             ]
            ],
            "type": "surface"
           }
          ],
          "table": [
           {
            "cells": {
             "fill": {
              "color": "#EBF0F8"
             },
             "line": {
              "color": "white"
             }
            },
            "header": {
             "fill": {
              "color": "#C8D4E3"
             },
             "line": {
              "color": "white"
             }
            },
            "type": "table"
           }
          ]
         },
         "layout": {
          "annotationdefaults": {
           "arrowcolor": "#2a3f5f",
           "arrowhead": 0,
           "arrowwidth": 1
          },
          "autotypenumbers": "strict",
          "coloraxis": {
           "colorbar": {
            "outlinewidth": 0,
            "ticks": ""
           }
          },
          "colorscale": {
           "diverging": [
            [
             0,
             "#8e0152"
            ],
            [
             0.1,
             "#c51b7d"
            ],
            [
             0.2,
             "#de77ae"
            ],
            [
             0.3,
             "#f1b6da"
            ],
            [
             0.4,
             "#fde0ef"
            ],
            [
             0.5,
             "#f7f7f7"
            ],
            [
             0.6,
             "#e6f5d0"
            ],
            [
             0.7,
             "#b8e186"
            ],
            [
             0.8,
             "#7fbc41"
            ],
            [
             0.9,
             "#4d9221"
            ],
            [
             1,
             "#276419"
            ]
           ],
           "sequential": [
            [
             0,
             "#0d0887"
            ],
            [
             0.1111111111111111,
             "#46039f"
            ],
            [
             0.2222222222222222,
             "#7201a8"
            ],
            [
             0.3333333333333333,
             "#9c179e"
            ],
            [
             0.4444444444444444,
             "#bd3786"
            ],
            [
             0.5555555555555556,
             "#d8576b"
            ],
            [
             0.6666666666666666,
             "#ed7953"
            ],
            [
             0.7777777777777778,
             "#fb9f3a"
            ],
            [
             0.8888888888888888,
             "#fdca26"
            ],
            [
             1,
             "#f0f921"
            ]
           ],
           "sequentialminus": [
            [
             0,
             "#0d0887"
            ],
            [
             0.1111111111111111,
             "#46039f"
            ],
            [
             0.2222222222222222,
             "#7201a8"
            ],
            [
             0.3333333333333333,
             "#9c179e"
            ],
            [
             0.4444444444444444,
             "#bd3786"
            ],
            [
             0.5555555555555556,
             "#d8576b"
            ],
            [
             0.6666666666666666,
             "#ed7953"
            ],
            [
             0.7777777777777778,
             "#fb9f3a"
            ],
            [
             0.8888888888888888,
             "#fdca26"
            ],
            [
             1,
             "#f0f921"
            ]
           ]
          },
          "colorway": [
           "#636efa",
           "#EF553B",
           "#00cc96",
           "#ab63fa",
           "#FFA15A",
           "#19d3f3",
           "#FF6692",
           "#B6E880",
           "#FF97FF",
           "#FECB52"
          ],
          "font": {
           "color": "#2a3f5f"
          },
          "geo": {
           "bgcolor": "white",
           "lakecolor": "white",
           "landcolor": "#E5ECF6",
           "showlakes": true,
           "showland": true,
           "subunitcolor": "white"
          },
          "hoverlabel": {
           "align": "left"
          },
          "hovermode": "closest",
          "mapbox": {
           "style": "light"
          },
          "paper_bgcolor": "white",
          "plot_bgcolor": "#E5ECF6",
          "polar": {
           "angularaxis": {
            "gridcolor": "white",
            "linecolor": "white",
            "ticks": ""
           },
           "bgcolor": "#E5ECF6",
           "radialaxis": {
            "gridcolor": "white",
            "linecolor": "white",
            "ticks": ""
           }
          },
          "scene": {
           "xaxis": {
            "backgroundcolor": "#E5ECF6",
            "gridcolor": "white",
            "gridwidth": 2,
            "linecolor": "white",
            "showbackground": true,
            "ticks": "",
            "zerolinecolor": "white"
           },
           "yaxis": {
            "backgroundcolor": "#E5ECF6",
            "gridcolor": "white",
            "gridwidth": 2,
            "linecolor": "white",
            "showbackground": true,
            "ticks": "",
            "zerolinecolor": "white"
           },
           "zaxis": {
            "backgroundcolor": "#E5ECF6",
            "gridcolor": "white",
            "gridwidth": 2,
            "linecolor": "white",
            "showbackground": true,
            "ticks": "",
            "zerolinecolor": "white"
           }
          },
          "shapedefaults": {
           "line": {
            "color": "#2a3f5f"
           }
          },
          "ternary": {
           "aaxis": {
            "gridcolor": "white",
            "linecolor": "white",
            "ticks": ""
           },
           "baxis": {
            "gridcolor": "white",
            "linecolor": "white",
            "ticks": ""
           },
           "bgcolor": "#E5ECF6",
           "caxis": {
            "gridcolor": "white",
            "linecolor": "white",
            "ticks": ""
           }
          },
          "title": {
           "x": 0.05
          },
          "xaxis": {
           "automargin": true,
           "gridcolor": "white",
           "linecolor": "white",
           "ticks": "",
           "title": {
            "standoff": 15
           },
           "zerolinecolor": "white",
           "zerolinewidth": 2
          },
          "yaxis": {
           "automargin": true,
           "gridcolor": "white",
           "linecolor": "white",
           "ticks": "",
           "title": {
            "standoff": 15
           },
           "zerolinecolor": "white",
           "zerolinewidth": 2
          }
         }
        }
       }
      }
     },
     "metadata": {},
     "output_type": "display_data"
    }
   ],
   "source": [
    "import plotly.express as px\n",
    "# df = px.data.iris()\n",
    "# fig = px.scatter_3d(x=ds[:,0], y=ds[:,1], z=ds[:,2])\n",
    "fig = px.scatter_3d(x=smpls[:, 0], y=smpls[:, 1], z=smpls[:, 2])\n",
    "fig.show()\n",
    "fig.write_html(\"./file.html\")"
   ]
  },
  {
   "cell_type": "code",
   "execution_count": null,
   "metadata": {},
   "outputs": [],
   "source": []
  }
 ],
 "metadata": {
  "kernelspec": {
   "display_name": "Python 3",
   "language": "python",
   "name": "python3"
  },
  "language_info": {
   "codemirror_mode": {
    "name": "ipython",
    "version": 3
   },
   "file_extension": ".py",
   "mimetype": "text/x-python",
   "name": "python",
   "nbconvert_exporter": "python",
   "pygments_lexer": "ipython3",
   "version": "3.11.3"
  }
 },
 "nbformat": 4,
 "nbformat_minor": 2
}

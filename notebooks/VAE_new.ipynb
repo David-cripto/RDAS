{
 "cells": [
  {
   "cell_type": "code",
   "execution_count": 1,
   "metadata": {},
   "outputs": [],
   "source": [
    "import torch\n",
    "import torch.nn as nn\n",
    "import torch.nn.functional as F\n",
    "import torch.distributions as TD\n",
    "import torch.optim as optim\n",
    "from torch.distributions import Normal, Bernoulli, Independent\n",
    "import torchvision\n",
    "from torchvision import transforms\n",
    "from torchvision.utils import make_grid\n",
    "from collections import defaultdict\n",
    "from tqdm.notebook import tqdm\n",
    "from typing import List, Union\n",
    "import gc\n",
    "import os\n",
    "import numpy as np\n",
    "from sklearn.datasets import make_regression\n",
    "from sklearn.metrics import r2_score\n",
    "from IPython.display import Image, display\n",
    "from IPython.core.display import HTML\n",
    "from tqdm import tqdm\n",
    "import matplotlib.pyplot as plt\n",
    "%matplotlib inline"
   ]
  },
  {
   "cell_type": "code",
   "execution_count": 2,
   "metadata": {},
   "outputs": [],
   "source": [
    "device='mps'"
   ]
  },
  {
   "cell_type": "markdown",
   "metadata": {},
   "source": [
    "**Our dataset**"
   ]
  },
  {
   "cell_type": "code",
   "execution_count": 3,
   "metadata": {},
   "outputs": [],
   "source": [
    "import sys\n",
    "sys.path.append('../rdas/datasets')\n",
    "# from rdas.datasets.linear import DatasetGenerator\n",
    "import linear as ldsg # Linear dataset generator\n",
    "from torch.utils.data import TensorDataset, DataLoader"
   ]
  },
  {
   "cell_type": "code",
   "execution_count": 4,
   "metadata": {},
   "outputs": [],
   "source": [
    "class ResBlock(nn.Module):\n",
    "    def __init__(self, in_dim: int, out_dim: int):\n",
    "        super().__init__()\n",
    "        self.func = nn.Sequential(\n",
    "            nn.Linear(in_dim, 2*in_dim),\n",
    "            nn.BatchNorm1d(2*in_dim),\n",
    "            nn.ReLU(),\n",
    "            nn.Linear(2*in_dim, out_dim),\n",
    "            nn.BatchNorm1d(out_dim)\n",
    "        )\n",
    "        \n",
    "        self.residual = nn.Linear(in_dim, out_dim) if in_dim != out_dim else nn.Identity()\n",
    "    def forward(self, x):\n",
    "        return self.func(x) + self.residual(x)\n",
    "        \n",
    "\n",
    "class Encoder(nn.Module):\n",
    "    def __init__(self, dim: int, latent_dim: int, intermediate_dim: int):\n",
    "        super().__init__()\n",
    "        self.model = nn.Sequential(\n",
    "            nn.Flatten(),\n",
    "            ResBlock(dim, dim),\n",
    "            ResBlock(dim, intermediate_dim),\n",
    "            ResBlock(intermediate_dim, intermediate_dim),\n",
    "            ResBlock(intermediate_dim, intermediate_dim),\n",
    "            ResBlock(intermediate_dim, 2*latent_dim),\n",
    "        )\n",
    "    def forward(self, x):\n",
    "        return self.model(x)\n",
    "\n",
    "class Decoder(nn.Module):\n",
    "    def __init__(self, dim: int, latent_dim: int, intermediate_dim: int):\n",
    "        super().__init__()\n",
    "        self.model = nn.Sequential(\n",
    "            ResBlock(latent_dim, latent_dim),\n",
    "            ResBlock(latent_dim, intermediate_dim),\n",
    "            ResBlock(intermediate_dim, intermediate_dim),\n",
    "            ResBlock(intermediate_dim, intermediate_dim),\n",
    "            ResBlock(intermediate_dim, dim),\n",
    "        )\n",
    "    def forward(self, z):\n",
    "        return self.model(z)\n",
    "    \n",
    "\n"
   ]
  },
  {
   "cell_type": "code",
   "execution_count": 5,
   "metadata": {},
   "outputs": [],
   "source": [
    "def get_normal_KL(mean_1, log_std_1, mean_2=None, log_std_2=None):\n",
    "    \"\"\"\n",
    "        This function should return the value of KL(p1 || p2),\n",
    "        where p1 = Normal(mean_1, exp(log_std_1)), p2 = Normal(mean_2, exp(log_std_2) ** 2).\n",
    "        If mean_2 and log_std_2 are None values, we will use standard normal distribution.\n",
    "        Note that we consider the case of diagonal covariance matrix.\n",
    "    \"\"\"\n",
    "    if mean_2 is None:\n",
    "        mean_2 = torch.zeros_like(mean_1)\n",
    "    if log_std_2 is None:\n",
    "        log_std_2 = torch.zeros_like(log_std_1)\n",
    "\n",
    "    std_1 = torch.exp(log_std_1)\n",
    "    std_2 = torch.exp(log_std_2)\n",
    "\n",
    "    mean_1, mean_2 = mean_1.float(), mean_2.float()\n",
    "    std_1, std_2  = std_1.float(), std_2.float()\n",
    "\n",
    "    p  = Independent(torch.distributions.Normal(mean_1, std_1), 1)\n",
    "    q  = Independent(torch.distributions.Normal(mean_2, std_2), 1)\n",
    "    kl = torch.distributions.kl_divergence(p, q)\n",
    "\n",
    "    return kl\n",
    "\n",
    "\n",
    "def get_normal_nll(x, mean, log_std):\n",
    "    \"\"\"\n",
    "        This function should return the negative log likelihood log p(x),\n",
    "        where p(x) = Normal(x | mean, exp(log_std) ** 2).\n",
    "        Note that we consider the case of diagonal covariance matrix.\n",
    "    \"\"\"\n",
    "    # ====\n",
    "    mean = mean.float()\n",
    "    std  = torch.exp(log_std).float()\n",
    "\n",
    "    prob = Independent(torch.distributions.Normal(mean, std), reinterpreted_batch_ndims = 1)\n",
    "    nnl = -prob.log_prob(x)\n",
    "    return nnl"
   ]
  },
  {
   "cell_type": "code",
   "execution_count": 6,
   "metadata": {},
   "outputs": [],
   "source": [
    "def train_epoch(model, train_loader, optimizer, use_cuda, loss_key='total'):\n",
    "    model.train()\n",
    "\n",
    "    stats = defaultdict(list)\n",
    "    for x in train_loader:\n",
    "        x = x[0]\n",
    "        if use_cuda:\n",
    "            x = x.cuda()\n",
    "        losses = model.loss(x)\n",
    "        optimizer.zero_grad()\n",
    "        losses[loss_key].backward()\n",
    "        optimizer.step()\n",
    "\n",
    "        for k, v in losses.items():\n",
    "            stats[k].append(v.item())\n",
    "\n",
    "    return stats\n",
    "\n",
    "\n",
    "def eval_model(model, data_loader, use_cuda):\n",
    "    model.eval()\n",
    "    stats = defaultdict(float)\n",
    "    with torch.no_grad():\n",
    "        for x in data_loader:\n",
    "            x = x[0]\n",
    "            if use_cuda:\n",
    "                x = x.cuda()\n",
    "            losses = model.loss(x)\n",
    "            for k, v in losses.items():\n",
    "                stats[k] += v.item() * x.shape[0]\n",
    "\n",
    "        for k in stats.keys():\n",
    "            stats[k] /= len(data_loader.dataset)\n",
    "    return stats\n",
    "\n",
    "\n",
    "def train_model(\n",
    "    model,\n",
    "    train_loader,\n",
    "    test_loader,\n",
    "    epochs,\n",
    "    lr,\n",
    "    use_tqdm=False,\n",
    "    use_cuda=False,\n",
    "    loss_key='total_loss'\n",
    "):\n",
    "    optimizer = optim.Adam(model.parameters(), lr=lr)\n",
    "\n",
    "    train_losses = defaultdict(list)\n",
    "    test_losses = defaultdict(list)\n",
    "    forrange = tqdm(range(epochs)) if use_tqdm else range(epochs)\n",
    "    if use_cuda:\n",
    "        model = model.cuda()\n",
    "\n",
    "    for epoch in forrange:\n",
    "        model.train()\n",
    "        train_loss = train_epoch(model, train_loader, optimizer, use_cuda, loss_key)\n",
    "        test_loss = eval_model(model, test_loader, use_cuda)\n",
    "\n",
    "        for k in train_loss.keys():\n",
    "            train_losses[k].extend(train_loss[k])\n",
    "            test_losses[k].append(test_loss[k])\n",
    "        print(f\"{test_losses['elbo_loss']=}\")\n",
    "        # print(f\"{test_losses['kl_loss']=}\")\n",
    "        # print(f\"{test_losses['recon_loss']=}\")\n",
    "    return dict(train_losses), dict(test_losses)"
   ]
  },
  {
   "cell_type": "code",
   "execution_count": 7,
   "metadata": {},
   "outputs": [],
   "source": [
    "class VAE(nn.Module):\n",
    "    def __init__(self, enc, dec, n_latent, beta=1):\n",
    "        super().__init__()\n",
    "        # assert len(input_shape) == 3\n",
    "\n",
    "        self.beta = beta\n",
    "        self.n_latent = n_latent\n",
    "      \n",
    "        self.encoder = enc\n",
    "        self.decoder = dec\n",
    "\n",
    "    def prior(self, n, use_cuda=False):\n",
    "     \n",
    "        z = torch.randn(n, self.n_latent)\n",
    "        if use_cuda:\n",
    "            z = z.cuda()\n",
    "        return z\n",
    "\n",
    "    def forward(self, x):\n",
    "        mu_z, log_std_z = torch.tensor_split(self.encoder(x), 2, dim = 1)\n",
    "        # print(mu_z.shape, log_std_z.shape, self.prior(x.shape[0]).shape) # (100, 2) (100, 2) (100, 10)\n",
    "        z = mu_z + torch.exp(log_std_z) * self.prior(x.shape[0])\n",
    "        mu_x = self.decoder(z)\n",
    "        return mu_z, log_std_z, mu_x\n",
    "        \n",
    "    def loss(self, x):\n",
    "\n",
    "        mu_z, log_std_z, mu_x = self(x)\n",
    "        recon_loss = torch.mean(get_normal_nll(x, mu_x, torch.zeros_like(mu_x)))\n",
    "        kl_loss = torch.mean(get_normal_KL(mu_z, log_std_z, torch.zeros_like(mu_z), torch.zeros_like(log_std_z)))\n",
    "        elbo_loss = self.beta * kl_loss + recon_loss\n",
    "        dict_loss = {\"recon_loss\": recon_loss, \"kl_loss\":kl_loss, \"elbo_loss\":elbo_loss}\n",
    "        return dict_loss\n",
    "\n",
    "    def sample(self, n):\n",
    "        with torch.no_grad():\n",
    "\n",
    "            x_recon = self.decoder(self.prior(n))\n",
    "            # samples = torch.clamp(x_recon, -1, 1)\n",
    "\n",
    "        return x_recon.cpu().numpy()"
   ]
  },
  {
   "cell_type": "code",
   "execution_count": 74,
   "metadata": {},
   "outputs": [],
   "source": [
    "n_samples = 10000\n",
    "dim_of_space = 3\n",
    "dim_of_manifold = 2\n",
    "\n",
    "d = 2  # dimension of latent space \n",
    "nh =  10 # dinesnions of intermediate representations.\n",
    "# D = dim_of_space # dimension of data space\n",
    "\n",
    "PATH_DATASET = \"/Users/melnikov/Desktop/study/Skoltech/NLA/proj/rdas/datasets/samples/line_3d.txt\"\n",
    "TEST_SIZE = 0.2\n",
    "BATCH_SIZE = 400\n",
    "\n",
    "dataset = np.loadtxt(PATH_DATASET, delimiter=',') \n",
    "SCALE = np.max(dataset)\n",
    "dataset = dataset/(0.5*SCALE) - 1\n",
    "\n",
    "test_dataset = TensorDataset(torch.Tensor(dataset[:int(TEST_SIZE*dataset.shape[0])])) \n",
    "train_dataset = TensorDataset(torch.Tensor(dataset[int(TEST_SIZE*dataset.shape[0]):])) \n",
    "test_loader = DataLoader(test_dataset, batch_size=BATCH_SIZE, shuffle=True)\n",
    "train_loader = DataLoader(train_dataset, batch_size=BATCH_SIZE, shuffle=True)\n",
    "D = dataset.shape[1]\n",
    "\n",
    "# generator = ldsg.DatasetGenerator(dim_of_space, dim_of_manifold)\n",
    "# dataset = generator.generate_lines_planes(n_samples, scale=300, noise=0, line_params=[1, 1, 1])\n",
    "# np.random.shuffle(dataset)\n",
    "\n",
    "# test_dataset = TensorDataset(torch.Tensor(dataset[:int(0.2*n_samples)])) \n",
    "# train_dataset = TensorDataset(torch.Tensor(dataset[int(0.2*n_samples):])) \n",
    "# test_loader = DataLoader(test_dataset, batch_size=300, shuffle=True)\n",
    "# train_loader = DataLoader(train_dataset, batch_size=300, shuffle=True)\n"
   ]
  },
  {
   "cell_type": "code",
   "execution_count": 75,
   "metadata": {},
   "outputs": [],
   "source": [
    "enc = Encoder(D, d, nh)\n",
    "dec = Decoder(D, d, nh)\n",
    "# enc = enc.to(device)\n",
    "# dec = dec.to(device)"
   ]
  },
  {
   "cell_type": "code",
   "execution_count": 76,
   "metadata": {},
   "outputs": [
    {
     "name": "stdout",
     "output_type": "stream",
     "text": [
      "test_losses['elbo_loss']=[3.975854983329773]\n",
      "test_losses['elbo_loss']=[3.975854983329773, 3.262909116744995]\n",
      "test_losses['elbo_loss']=[3.975854983329773, 3.262909116744995, 3.085520658493042]\n",
      "test_losses['elbo_loss']=[3.975854983329773, 3.262909116744995, 3.085520658493042, 3.0416821336746214]\n"
     ]
    },
    {
     "ename": "KeyboardInterrupt",
     "evalue": "",
     "output_type": "error",
     "traceback": [
      "\u001b[0;31m---------------------------------------------------------------------------\u001b[0m",
      "\u001b[0;31mKeyboardInterrupt\u001b[0m                         Traceback (most recent call last)",
      "\u001b[1;32m/Users/melnikov/Desktop/study/Skoltech/NLA/proj/notebooks/VAE_new.ipynb Cell 11\u001b[0m line \u001b[0;36m7\n\u001b[1;32m      <a href='vscode-notebook-cell:/Users/melnikov/Desktop/study/Skoltech/NLA/proj/notebooks/VAE_new.ipynb#X13sZmlsZQ%3D%3D?line=2'>3</a>\u001b[0m BETA \u001b[39m=\u001b[39m \u001b[39m1\u001b[39m       \u001b[39m# 0.1 < _ < 10\u001b[39;00m\n\u001b[1;32m      <a href='vscode-notebook-cell:/Users/melnikov/Desktop/study/Skoltech/NLA/proj/notebooks/VAE_new.ipynb#X13sZmlsZQ%3D%3D?line=4'>5</a>\u001b[0m model \u001b[39m=\u001b[39m VAE(enc, dec, d)\n\u001b[0;32m----> <a href='vscode-notebook-cell:/Users/melnikov/Desktop/study/Skoltech/NLA/proj/notebooks/VAE_new.ipynb#X13sZmlsZQ%3D%3D?line=6'>7</a>\u001b[0m train_losses, test_losses \u001b[39m=\u001b[39m train_model(\n\u001b[1;32m      <a href='vscode-notebook-cell:/Users/melnikov/Desktop/study/Skoltech/NLA/proj/notebooks/VAE_new.ipynb#X13sZmlsZQ%3D%3D?line=7'>8</a>\u001b[0m     model, \n\u001b[1;32m      <a href='vscode-notebook-cell:/Users/melnikov/Desktop/study/Skoltech/NLA/proj/notebooks/VAE_new.ipynb#X13sZmlsZQ%3D%3D?line=8'>9</a>\u001b[0m     train_loader, \n\u001b[1;32m     <a href='vscode-notebook-cell:/Users/melnikov/Desktop/study/Skoltech/NLA/proj/notebooks/VAE_new.ipynb#X13sZmlsZQ%3D%3D?line=9'>10</a>\u001b[0m     test_loader, \n\u001b[1;32m     <a href='vscode-notebook-cell:/Users/melnikov/Desktop/study/Skoltech/NLA/proj/notebooks/VAE_new.ipynb#X13sZmlsZQ%3D%3D?line=10'>11</a>\u001b[0m     epochs\u001b[39m=\u001b[39;49mEPOCHS, \n\u001b[1;32m     <a href='vscode-notebook-cell:/Users/melnikov/Desktop/study/Skoltech/NLA/proj/notebooks/VAE_new.ipynb#X13sZmlsZQ%3D%3D?line=11'>12</a>\u001b[0m     lr\u001b[39m=\u001b[39;49mLR, \n\u001b[1;32m     <a href='vscode-notebook-cell:/Users/melnikov/Desktop/study/Skoltech/NLA/proj/notebooks/VAE_new.ipynb#X13sZmlsZQ%3D%3D?line=12'>13</a>\u001b[0m     loss_key\u001b[39m=\u001b[39;49m\u001b[39m'\u001b[39;49m\u001b[39melbo_loss\u001b[39;49m\u001b[39m'\u001b[39;49m, \n\u001b[1;32m     <a href='vscode-notebook-cell:/Users/melnikov/Desktop/study/Skoltech/NLA/proj/notebooks/VAE_new.ipynb#X13sZmlsZQ%3D%3D?line=13'>14</a>\u001b[0m     use_tqdm\u001b[39m=\u001b[39;49m\u001b[39mFalse\u001b[39;49;00m, \n\u001b[1;32m     <a href='vscode-notebook-cell:/Users/melnikov/Desktop/study/Skoltech/NLA/proj/notebooks/VAE_new.ipynb#X13sZmlsZQ%3D%3D?line=14'>15</a>\u001b[0m     use_cuda\u001b[39m=\u001b[39;49m\u001b[39mFalse\u001b[39;49;00m, \n\u001b[1;32m     <a href='vscode-notebook-cell:/Users/melnikov/Desktop/study/Skoltech/NLA/proj/notebooks/VAE_new.ipynb#X13sZmlsZQ%3D%3D?line=15'>16</a>\u001b[0m )\n",
      "\u001b[1;32m/Users/melnikov/Desktop/study/Skoltech/NLA/proj/notebooks/VAE_new.ipynb Cell 11\u001b[0m line \u001b[0;36m5\n\u001b[1;32m     <a href='vscode-notebook-cell:/Users/melnikov/Desktop/study/Skoltech/NLA/proj/notebooks/VAE_new.ipynb#X13sZmlsZQ%3D%3D?line=54'>55</a>\u001b[0m \u001b[39mfor\u001b[39;00m epoch \u001b[39min\u001b[39;00m forrange:\n\u001b[1;32m     <a href='vscode-notebook-cell:/Users/melnikov/Desktop/study/Skoltech/NLA/proj/notebooks/VAE_new.ipynb#X13sZmlsZQ%3D%3D?line=55'>56</a>\u001b[0m     model\u001b[39m.\u001b[39mtrain()\n\u001b[0;32m---> <a href='vscode-notebook-cell:/Users/melnikov/Desktop/study/Skoltech/NLA/proj/notebooks/VAE_new.ipynb#X13sZmlsZQ%3D%3D?line=56'>57</a>\u001b[0m     train_loss \u001b[39m=\u001b[39m train_epoch(model, train_loader, optimizer, use_cuda, loss_key)\n\u001b[1;32m     <a href='vscode-notebook-cell:/Users/melnikov/Desktop/study/Skoltech/NLA/proj/notebooks/VAE_new.ipynb#X13sZmlsZQ%3D%3D?line=57'>58</a>\u001b[0m     test_loss \u001b[39m=\u001b[39m eval_model(model, test_loader, use_cuda)\n\u001b[1;32m     <a href='vscode-notebook-cell:/Users/melnikov/Desktop/study/Skoltech/NLA/proj/notebooks/VAE_new.ipynb#X13sZmlsZQ%3D%3D?line=59'>60</a>\u001b[0m     \u001b[39mfor\u001b[39;00m k \u001b[39min\u001b[39;00m train_loss\u001b[39m.\u001b[39mkeys():\n",
      "\u001b[1;32m/Users/melnikov/Desktop/study/Skoltech/NLA/proj/notebooks/VAE_new.ipynb Cell 11\u001b[0m line \u001b[0;36m1\n\u001b[1;32m      <a href='vscode-notebook-cell:/Users/melnikov/Desktop/study/Skoltech/NLA/proj/notebooks/VAE_new.ipynb#X13sZmlsZQ%3D%3D?line=8'>9</a>\u001b[0m losses \u001b[39m=\u001b[39m model\u001b[39m.\u001b[39mloss(x)\n\u001b[1;32m     <a href='vscode-notebook-cell:/Users/melnikov/Desktop/study/Skoltech/NLA/proj/notebooks/VAE_new.ipynb#X13sZmlsZQ%3D%3D?line=9'>10</a>\u001b[0m optimizer\u001b[39m.\u001b[39mzero_grad()\n\u001b[0;32m---> <a href='vscode-notebook-cell:/Users/melnikov/Desktop/study/Skoltech/NLA/proj/notebooks/VAE_new.ipynb#X13sZmlsZQ%3D%3D?line=10'>11</a>\u001b[0m losses[loss_key]\u001b[39m.\u001b[39;49mbackward()\n\u001b[1;32m     <a href='vscode-notebook-cell:/Users/melnikov/Desktop/study/Skoltech/NLA/proj/notebooks/VAE_new.ipynb#X13sZmlsZQ%3D%3D?line=11'>12</a>\u001b[0m optimizer\u001b[39m.\u001b[39mstep()\n\u001b[1;32m     <a href='vscode-notebook-cell:/Users/melnikov/Desktop/study/Skoltech/NLA/proj/notebooks/VAE_new.ipynb#X13sZmlsZQ%3D%3D?line=13'>14</a>\u001b[0m \u001b[39mfor\u001b[39;00m k, v \u001b[39min\u001b[39;00m losses\u001b[39m.\u001b[39mitems():\n",
      "File \u001b[0;32m/opt/homebrew/lib/python3.11/site-packages/torch/_tensor.py:492\u001b[0m, in \u001b[0;36mTensor.backward\u001b[0;34m(self, gradient, retain_graph, create_graph, inputs)\u001b[0m\n\u001b[1;32m    482\u001b[0m \u001b[39mif\u001b[39;00m has_torch_function_unary(\u001b[39mself\u001b[39m):\n\u001b[1;32m    483\u001b[0m     \u001b[39mreturn\u001b[39;00m handle_torch_function(\n\u001b[1;32m    484\u001b[0m         Tensor\u001b[39m.\u001b[39mbackward,\n\u001b[1;32m    485\u001b[0m         (\u001b[39mself\u001b[39m,),\n\u001b[0;32m   (...)\u001b[0m\n\u001b[1;32m    490\u001b[0m         inputs\u001b[39m=\u001b[39minputs,\n\u001b[1;32m    491\u001b[0m     )\n\u001b[0;32m--> 492\u001b[0m torch\u001b[39m.\u001b[39;49mautograd\u001b[39m.\u001b[39;49mbackward(\n\u001b[1;32m    493\u001b[0m     \u001b[39mself\u001b[39;49m, gradient, retain_graph, create_graph, inputs\u001b[39m=\u001b[39;49minputs\n\u001b[1;32m    494\u001b[0m )\n",
      "File \u001b[0;32m/opt/homebrew/lib/python3.11/site-packages/torch/autograd/__init__.py:251\u001b[0m, in \u001b[0;36mbackward\u001b[0;34m(tensors, grad_tensors, retain_graph, create_graph, grad_variables, inputs)\u001b[0m\n\u001b[1;32m    246\u001b[0m     retain_graph \u001b[39m=\u001b[39m create_graph\n\u001b[1;32m    248\u001b[0m \u001b[39m# The reason we repeat the same comment below is that\u001b[39;00m\n\u001b[1;32m    249\u001b[0m \u001b[39m# some Python versions print out the first line of a multi-line function\u001b[39;00m\n\u001b[1;32m    250\u001b[0m \u001b[39m# calls in the traceback and some print out the last line\u001b[39;00m\n\u001b[0;32m--> 251\u001b[0m Variable\u001b[39m.\u001b[39;49m_execution_engine\u001b[39m.\u001b[39;49mrun_backward(  \u001b[39m# Calls into the C++ engine to run the backward pass\u001b[39;49;00m\n\u001b[1;32m    252\u001b[0m     tensors,\n\u001b[1;32m    253\u001b[0m     grad_tensors_,\n\u001b[1;32m    254\u001b[0m     retain_graph,\n\u001b[1;32m    255\u001b[0m     create_graph,\n\u001b[1;32m    256\u001b[0m     inputs,\n\u001b[1;32m    257\u001b[0m     allow_unreachable\u001b[39m=\u001b[39;49m\u001b[39mTrue\u001b[39;49;00m,\n\u001b[1;32m    258\u001b[0m     accumulate_grad\u001b[39m=\u001b[39;49m\u001b[39mTrue\u001b[39;49;00m,\n\u001b[1;32m    259\u001b[0m )\n",
      "\u001b[0;31mKeyboardInterrupt\u001b[0m: "
     ]
    }
   ],
   "source": [
    "EPOCHS = 30   # < 16\n",
    "LR = 0.3*1e-3         # < 1e-3\n",
    "BETA = 1       # 0.1 < _ < 10\n",
    "\n",
    "model = VAE(enc, dec, d)\n",
    "\n",
    "train_losses, test_losses = train_model(\n",
    "    model, \n",
    "    train_loader, \n",
    "    test_loader, \n",
    "    epochs=EPOCHS, \n",
    "    lr=LR, \n",
    "    loss_key='elbo_loss', \n",
    "    use_tqdm=False, \n",
    "    use_cuda=False, \n",
    ")"
   ]
  },
  {
   "cell_type": "code",
   "execution_count": 61,
   "metadata": {},
   "outputs": [],
   "source": [
    "smpls = model.sample(100)"
   ]
  },
  {
   "cell_type": "code",
   "execution_count": 62,
   "metadata": {},
   "outputs": [
    {
     "data": {
      "image/png": "[encoded data removed]",
      "text/plain": [
       "<Figure size 640x480 with 1 Axes>"
      ]
     },
     "metadata": {},
     "output_type": "display_data"
    }
   ],
   "source": [
    "import matplotlib.pyplot as plt\n",
    "from mpl_toolkits.mplot3d import Axes3D\n",
    "import seaborn as sns\n",
    "\n",
    "sns.set()\n",
    "\n",
    "fig = plt.figure()\n",
    "ax = fig.add_subplot(111, projection='3d')\n",
    "ds = dataset[:500]\n",
    "ax.scatter(ds[:, 0], ds[:, 1], ds[:, 2], marker='o', label='Generated Points')\n",
    "\n",
    "# ax.scatter(smpls[:, 0], smpls[:, 1], smpls[:, 2], marker='x', label='Generated Points')\n",
    "\n",
    "ax.set_xlabel('X-axis')\n",
    "ax.set_ylabel('Y-axis')\n",
    "ax.set_zlabel('Z-axis')\n",
    "ax.legend()\n",
    "\n",
    "plt.show()"
   ]
  },
  {
   "cell_type": "code",
   "execution_count": 63,
   "metadata": {},
   "outputs": [
    {
     "data": {
      "application/vnd.plotly.v1+json": {
       "config": {
        "plotlyServerURL": "https://plot.ly"
       },
       "data": [
        {
         "hovertemplate": "x=%{x}<br>y=%{y}<br>z=%{z}<extra></extra>",
         "legendgroup": "",
         "marker": {
          "color": "#636efa",
          "symbol": "circle"
         },
         "mode": "markers",
         "name": "",
         "scene": "scene",
         "showlegend": false,
         "type": "scatter3d",
         "x": [
          0.44940465688705444,
          0.4237164855003357,
          -0.03549051284790039,
          -0.03162148594856262,
          -0.020978569984436035,
          0.418904185295105,
          0.6091305613517761,
          0.5388144254684448,
          0.3803628087043762,
          0.0334467887878418,
          0.3886611759662628,
          0.32758671045303345,
          0.24441981315612793,
          0.3850811719894409,
          0.7286832332611084,
          0.37704968452453613,
          0.34770798683166504,
          0.5570197701454163,
          0.6236100792884827,
          0.13643702864646912,
          0.45902422070503235,
          -0.022998154163360596,
          0.10034197568893433,
          0.4640725255012512,
          0.11880575865507126,
          0.5945497751235962,
          0.4460268020629883,
          0.014409303665161133,
          0.24205172061920166,
          0.01731240749359131,
          0.01650536060333252,
          0.25264972448349,
          0.38901227712631226,
          0.09039193391799927,
          0.48122265934944153,
          0.0789751410484314,
          0.3847631812095642,
          0.6180261373519897,
          0.5380781292915344,
          0.46068647503852844,
          -0.01560986042022705,
          0.5606765747070312,
          0.3459250330924988,
          0.5198063850402832,
          0.1442430019378662,
          0.0055814385414123535,
          0.3213064968585968,
          0.15710324048995972,
          0.435062438249588,
          0.4794878363609314,
          0.4596744775772095,
          0.5799131989479065,
          0.3883172273635864,
          0.5238034725189209,
          0.09059685468673706,
          0.3761352002620697,
          0.18886452913284302,
          0.449749231338501,
          0.1705772876739502,
          0.03318369388580322,
          0.5092039108276367,
          0.24305719137191772,
          0.16689422726631165,
          0.4665430784225464,
          0.24384987354278564,
          0.3207029104232788,
          0.12126868963241577,
          0.13550803065299988,
          0.05199933052062988,
          0.4549834728240967,
          0.5238107442855835,
          0.522799551486969,
          0.12961411476135254,
          0.5113604664802551,
          -0.018053054809570312,
          0.42922264337539673,
          0.610761284828186,
          0.03592658042907715,
          0.5040750503540039,
          0.33964794874191284,
          0.011625468730926514,
          0.09730803966522217,
          0.1865370273590088,
          0.3348551094532013,
          0.0004994869232177734,
          0.4232900142669678,
          -0.05300170183181763,
          0.4849104583263397,
          0.3142484724521637,
          0.40498223900794983,
          0.38064324855804443,
          -0.04496312141418457,
          0.05146971344947815,
          0.2008364498615265,
          0.09285563975572586,
          0.557018518447876,
          0.6815966963768005,
          0.05628621578216553,
          0.2669578492641449,
          0.29867804050445557
         ],
         "y": [
          0.9333650469779968,
          0.8978769779205322,
          0.6944089531898499,
          1.1962531805038452,
          1.1124204397201538,
          0.9859380722045898,
          1.1114791631698608,
          1.1566503047943115,
          0.8487682938575745,
          0.7844833135604858,
          1.0399590730667114,
          0.9494621753692627,
          0.8778732419013977,
          0.9445796012878418,
          1.2299327850341797,
          1.3108222484588623,
          0.9292722940444946,
          1.0733284950256348,
          1.146730899810791,
          1.1793527603149414,
          0.9919350743293762,
          0.7667298913002014,
          0.7945098280906677,
          1.162898063659668,
          1.2275598049163818,
          1.1311408281326294,
          0.9324811697006226,
          0.8039705753326416,
          0.8725301027297974,
          0.7986702919006348,
          0.7638276815414429,
          0.8372780084609985,
          1.061657190322876,
          0.9135805368423462,
          0.9644870758056641,
          0.6871047616004944,
          0.8568743467330933,
          1.1394977569580078,
          1.1171822547912598,
          0.9361357092857361,
          0.7344909906387329,
          1.0492193698883057,
          0.8987364768981934,
          1.0989054441452026,
          0.8811502456665039,
          1.0847069025039673,
          0.9626842141151428,
          1.1551170349121094,
          0.8833001852035522,
          1.1603524684906006,
          1.0308167934417725,
          1.1594160795211792,
          1.0351746082305908,
          1.2110159397125244,
          0.9288046360015869,
          1.188612937927246,
          0.8398053050041199,
          0.9010318517684937,
          0.8431223630905151,
          0.7070165872573853,
          1.0111792087554932,
          0.8435389995574951,
          1.0999670028686523,
          1.048601508140564,
          0.8484513759613037,
          0.9212415218353271,
          0.7375121116638184,
          0.8796526193618774,
          0.9021975994110107,
          1.128334403038025,
          1.1370513439178467,
          1.1819899082183838,
          0.8133280277252197,
          1.0166860818862915,
          0.7902591824531555,
          1.0599608421325684,
          1.1536228656768799,
          0.8673379421234131,
          1.0370941162109375,
          0.8389691114425659,
          0.7564721703529358,
          0.687074601650238,
          1.2003532648086548,
          1.0075047016143799,
          1.221243143081665,
          0.8670238256454468,
          0.6871068477630615,
          1.0078673362731934,
          1.0169346332550049,
          0.965555727481842,
          0.8846966028213501,
          0.709303617477417,
          0.9143286943435669,
          0.8911136984825134,
          0.5519677400588989,
          1.0926038026809692,
          1.1572867631912231,
          0.8069635629653931,
          0.9431895017623901,
          0.8771851658821106
         ],
         "z": [
          1.9878623485565186,
          2.2109878063201904,
          1.4729924201965332,
          1.3981326818466187,
          1.3722490072250366,
          1.9630978107452393,
          2.4236960411071777,
          2.2356956005096436,
          1.6095390319824219,
          1.3761523962020874,
          1.879604697227478,
          1.5940158367156982,
          1.4015223979949951,
          1.8907957077026367,
          2.6805098056793213,
          1.5182183980941772,
          1.8178741931915283,
          2.231889486312866,
          2.3501408100128174,
          1.5558490753173828,
          2.027111053466797,
          1.4903794527053833,
          1.3960082530975342,
          2.229749917984009,
          1.5274906158447266,
          2.272813558578491,
          2.2499520778656006,
          1.5361031293869019,
          1.4018126726150513,
          1.4704194068908691,
          1.4736436605453491,
          1.493430495262146,
          2.002748966217041,
          1.4309133291244507,
          2.069481372833252,
          1.6543668508529663,
          1.7400976419448853,
          2.4503393173217773,
          2.2383828163146973,
          1.9732906818389893,
          1.3866909742355347,
          2.3244051933288574,
          1.7770884037017822,
          2.1430370807647705,
          1.338865041732788,
          1.388993740081787,
          1.7876310348510742,
          1.5773954391479492,
          2.1239113807678223,
          2.2408645153045654,
          2.0017900466918945,
          2.2879724502563477,
          1.8646676540374756,
          2.3555307388305664,
          1.5675219297409058,
          1.6146776676177979,
          1.3998786211013794,
          1.768934726715088,
          1.5810017585754395,
          1.484357476234436,
          2.3134965896606445,
          1.4643598794937134,
          1.586052656173706,
          2.012744426727295,
          1.4474459886550903,
          1.5679413080215454,
          1.5508511066436768,
          1.5229783058166504,
          1.3045551776885986,
          2.1257383823394775,
          2.2552907466888428,
          2.3032913208007812,
          1.4047260284423828,
          2.3704636096954346,
          1.5343356132507324,
          2.061265468597412,
          2.2983195781707764,
          1.3176325559616089,
          2.4885001182556152,
          1.6966416835784912,
          1.4552658796310425,
          1.4886871576309204,
          1.3660988807678223,
          1.8190171718597412,
          1.362671136856079,
          1.7439407110214233,
          1.4917072057724,
          2.1046109199523926,
          1.7523847818374634,
          1.9130308628082275,
          1.7565290927886963,
          1.5504868030548096,
          1.5218956470489502,
          1.5567898750305176,
          1.81618070602417,
          2.2073323726654053,
          2.5691654682159424,
          1.3668982982635498,
          1.580133318901062,
          1.4210469722747803
         ]
        }
       ],
       "layout": {
        "legend": {
         "tracegroupgap": 0
        },
        "margin": {
         "t": 60
        },
        "scene": {
         "domain": {
          "x": [
           0,
           1
          ],
          "y": [
           0,
           1
          ]
         },
         "xaxis": {
          "title": {
           "text": "x"
          }
         },
         "yaxis": {
          "title": {
           "text": "y"
          }
         },
         "zaxis": {
          "title": {
           "text": "z"
          }
         }
        },
        "template": {
         "data": {
          "bar": [
           {
            "error_x": {
             "color": "#2a3f5f"
            },
            "error_y": {
             "color": "#2a3f5f"
            },
            "marker": {
             "line": {
              "color": "#E5ECF6",
              "width": 0.5
             },
             "pattern": {
              "fillmode": "overlay",
              "size": 10,
              "solidity": 0.2
             }
            },
            "type": "bar"
           }
          ],
          "barpolar": [
           {
            "marker": {
             "line": {
              "color": "#E5ECF6",
              "width": 0.5
             },
             "pattern": {
              "fillmode": "overlay",
              "size": 10,
              "solidity": 0.2
             }
            },
            "type": "barpolar"
           }
          ],
          "carpet": [
           {
            "aaxis": {
             "endlinecolor": "#2a3f5f",
             "gridcolor": "white",
             "linecolor": "white",
             "minorgridcolor": "white",
             "startlinecolor": "#2a3f5f"
            },
            "baxis": {
             "endlinecolor": "#2a3f5f",
             "gridcolor": "white",
             "linecolor": "white",
             "minorgridcolor": "white",
             "startlinecolor": "#2a3f5f"
            },
            "type": "carpet"
           }
          ],
          "choropleth": [
           {
            "colorbar": {
             "outlinewidth": 0,
             "ticks": ""
            },
            "type": "choropleth"
           }
          ],
          "contour": [
           {
            "colorbar": {
             "outlinewidth": 0,
             "ticks": ""
            },
            "colorscale": [
             [
              0,
              "#0d0887"
             ],
             [
              0.1111111111111111,
              "#46039f"
             ],
             [
              0.2222222222222222,
              "#7201a8"
             ],
             [
              0.3333333333333333,
              "#9c179e"
             ],
             [
              0.4444444444444444,
              "#bd3786"
             ],
             [
              0.5555555555555556,
              "#d8576b"
             ],
             [
              0.6666666666666666,
              "#ed7953"
             ],
             [
              0.7777777777777778,
              "#fb9f3a"
             ],
             [
              0.8888888888888888,
              "#fdca26"
             ],
             [
              1,
              "#f0f921"
             ]
            ],
            "type": "contour"
           }
          ],
          "contourcarpet": [
           {
            "colorbar": {
             "outlinewidth": 0,
             "ticks": ""
            },
            "type": "contourcarpet"
           }
          ],
          "heatmap": [
           {
            "colorbar": {
             "outlinewidth": 0,
             "ticks": ""
            },
            "colorscale": [
             [
              0,
              "#0d0887"
             ],
             [
              0.1111111111111111,
              "#46039f"
             ],
             [
              0.2222222222222222,
              "#7201a8"
             ],
             [
              0.3333333333333333,
              "#9c179e"
             ],
             [
              0.4444444444444444,
              "#bd3786"
             ],
             [
              0.5555555555555556,
              "#d8576b"
             ],
             [
              0.6666666666666666,
              "#ed7953"
             ],
             [
              0.7777777777777778,
              "#fb9f3a"
             ],
             [
              0.8888888888888888,
              "#fdca26"
             ],
             [
              1,
              "#f0f921"
             ]
            ],
            "type": "heatmap"
           }
          ],
          "heatmapgl": [
           {
            "colorbar": {
             "outlinewidth": 0,
             "ticks": ""
            },
            "colorscale": [
             [
              0,
              "#0d0887"
             ],
             [
              0.1111111111111111,
              "#46039f"
             ],
             [
              0.2222222222222222,
              "#7201a8"
             ],
             [
              0.3333333333333333,
              "#9c179e"
             ],
             [
              0.4444444444444444,
              "#bd3786"
             ],
             [
              0.5555555555555556,
              "#d8576b"
             ],
             [
              0.6666666666666666,
              "#ed7953"
             ],
             [
              0.7777777777777778,
              "#fb9f3a"
             ],
             [
              0.8888888888888888,
              "#fdca26"
             ],
             [
              1,
              "#f0f921"
             ]
            ],
            "type": "heatmapgl"
           }
          ],
          "histogram": [
           {
            "marker": {
             "pattern": {
              "fillmode": "overlay",
              "size": 10,
              "solidity": 0.2
             }
            },
            "type": "histogram"
           }
          ],
          "histogram2d": [
           {
            "colorbar": {
             "outlinewidth": 0,
             "ticks": ""
            },
            "colorscale": [
             [
              0,
              "#0d0887"
             ],
             [
              0.1111111111111111,
              "#46039f"
             ],
             [
              0.2222222222222222,
              "#7201a8"
             ],
             [
              0.3333333333333333,
              "#9c179e"
             ],
             [
              0.4444444444444444,
              "#bd3786"
             ],
             [
              0.5555555555555556,
              "#d8576b"
             ],
             [
              0.6666666666666666,
              "#ed7953"
             ],
             [
              0.7777777777777778,
              "#fb9f3a"
             ],
             [
              0.8888888888888888,
              "#fdca26"
             ],
             [
              1,
              "#f0f921"
             ]
            ],
            "type": "histogram2d"
           }
          ],
          "histogram2dcontour": [
           {
            "colorbar": {
             "outlinewidth": 0,
             "ticks": ""
            },
            "colorscale": [
             [
              0,
              "#0d0887"
             ],
             [
              0.1111111111111111,
              "#46039f"
             ],
             [
              0.2222222222222222,
              "#7201a8"
             ],
             [
              0.3333333333333333,
              "#9c179e"
             ],
             [
              0.4444444444444444,
              "#bd3786"
             ],
             [
              0.5555555555555556,
              "#d8576b"
             ],
             [
              0.6666666666666666,
              "#ed7953"
             ],
             [
              0.7777777777777778,
              "#fb9f3a"
             ],
             [
              0.8888888888888888,
              "#fdca26"
             ],
             [
              1,
              "#f0f921"
             ]
            ],
            "type": "histogram2dcontour"
           }
          ],
          "mesh3d": [
           {
            "colorbar": {
             "outlinewidth": 0,
             "ticks": ""
            },
            "type": "mesh3d"
           }
          ],
          "parcoords": [
           {
            "line": {
             "colorbar": {
              "outlinewidth": 0,
              "ticks": ""
             }
            },
            "type": "parcoords"
           }
          ],
          "pie": [
           {
            "automargin": true,
            "type": "pie"
           }
          ],
          "scatter": [
           {
            "fillpattern": {
             "fillmode": "overlay",
             "size": 10,
             "solidity": 0.2
            },
            "type": "scatter"
           }
          ],
          "scatter3d": [
           {
            "line": {
             "colorbar": {
              "outlinewidth": 0,
              "ticks": ""
             }
            },
            "marker": {
             "colorbar": {
              "outlinewidth": 0,
              "ticks": ""
             }
            },
            "type": "scatter3d"
           }
          ],
          "scattercarpet": [
           {
            "marker": {
             "colorbar": {
              "outlinewidth": 0,
              "ticks": ""
             }
            },
            "type": "scattercarpet"
           }
          ],
          "scattergeo": [
           {
            "marker": {
             "colorbar": {
              "outlinewidth": 0,
              "ticks": ""
             }
            },
            "type": "scattergeo"
           }
          ],
          "scattergl": [
           {
            "marker": {
             "colorbar": {
              "outlinewidth": 0,
              "ticks": ""
             }
            },
            "type": "scattergl"
           }
          ],
          "scattermapbox": [
           {
            "marker": {
             "colorbar": {
              "outlinewidth": 0,
              "ticks": ""
             }
            },
            "type": "scattermapbox"
           }
          ],
          "scatterpolar": [
           {
            "marker": {
             "colorbar": {
              "outlinewidth": 0,
              "ticks": ""
             }
            },
            "type": "scatterpolar"
           }
          ],
          "scatterpolargl": [
           {
            "marker": {
             "colorbar": {
              "outlinewidth": 0,
              "ticks": ""
             }
            },
            "type": "scatterpolargl"
           }
          ],
          "scatterternary": [
           {
            "marker": {
             "colorbar": {
              "outlinewidth": 0,
              "ticks": ""
             }
            },
            "type": "scatterternary"
           }
          ],
          "surface": [
           {
            "colorbar": {
             "outlinewidth": 0,
             "ticks": ""
            },
            "colorscale": [
             [
              0,
              "#0d0887"
             ],
             [
              0.1111111111111111,
              "#46039f"
             ],
             [
              0.2222222222222222,
              "#7201a8"
             ],
             [
              0.3333333333333333,
              "#9c179e"
             ],
             [
              0.4444444444444444,
              "#bd3786"
             ],
             [
              0.5555555555555556,
              "#d8576b"
             ],
             [
              0.6666666666666666,
              "#ed7953"
             ],
             [
              0.7777777777777778,
              "#fb9f3a"
             ],
             [
              0.8888888888888888,
              "#fdca26"
             ],
             [
              1,
              "#f0f921"
             ]
            ],
            "type": "surface"
           }
          ],
          "table": [
           {
            "cells": {
             "fill": {
              "color": "#EBF0F8"
             },
             "line": {
              "color": "white"
             }
            },
            "header": {
             "fill": {
              "color": "#C8D4E3"
             },
             "line": {
              "color": "white"
             }
            },
            "type": "table"
           }
          ]
         },
         "layout": {
          "annotationdefaults": {
           "arrowcolor": "#2a3f5f",
           "arrowhead": 0,
           "arrowwidth": 1
          },
          "autotypenumbers": "strict",
          "coloraxis": {
           "colorbar": {
            "outlinewidth": 0,
            "ticks": ""
           }
          },
          "colorscale": {
           "diverging": [
            [
             0,
             "#8e0152"
            ],
            [
             0.1,
             "#c51b7d"
            ],
            [
             0.2,
             "#de77ae"
            ],
            [
             0.3,
             "#f1b6da"
            ],
            [
             0.4,
             "#fde0ef"
            ],
            [
             0.5,
             "#f7f7f7"
            ],
            [
             0.6,
             "#e6f5d0"
            ],
            [
             0.7,
             "#b8e186"
            ],
            [
             0.8,
             "#7fbc41"
            ],
            [
             0.9,
             "#4d9221"
            ],
            [
             1,
             "#276419"
            ]
           ],
           "sequential": [
            [
             0,
             "#0d0887"
            ],
            [
             0.1111111111111111,
             "#46039f"
            ],
            [
             0.2222222222222222,
             "#7201a8"
            ],
            [
             0.3333333333333333,
             "#9c179e"
            ],
            [
             0.4444444444444444,
             "#bd3786"
            ],
            [
             0.5555555555555556,
             "#d8576b"
            ],
            [
             0.6666666666666666,
             "#ed7953"
            ],
            [
             0.7777777777777778,
             "#fb9f3a"
            ],
            [
             0.8888888888888888,
             "#fdca26"
            ],
            [
             1,
             "#f0f921"
            ]
           ],
           "sequentialminus": [
            [
             0,
             "#0d0887"
            ],
            [
             0.1111111111111111,
             "#46039f"
            ],
            [
             0.2222222222222222,
             "#7201a8"
            ],
            [
             0.3333333333333333,
             "#9c179e"
            ],
            [
             0.4444444444444444,
             "#bd3786"
            ],
            [
             0.5555555555555556,
             "#d8576b"
            ],
            [
             0.6666666666666666,
             "#ed7953"
            ],
            [
             0.7777777777777778,
             "#fb9f3a"
            ],
            [
             0.8888888888888888,
             "#fdca26"
            ],
            [
             1,
             "#f0f921"
            ]
           ]
          },
          "colorway": [
           "#636efa",
           "#EF553B",
           "#00cc96",
           "#ab63fa",
           "#FFA15A",
           "#19d3f3",
           "#FF6692",
           "#B6E880",
           "#FF97FF",
           "#FECB52"
          ],
          "font": {
           "color": "#2a3f5f"
          },
          "geo": {
           "bgcolor": "white",
           "lakecolor": "white",
           "landcolor": "#E5ECF6",
           "showlakes": true,
           "showland": true,
           "subunitcolor": "white"
          },
          "hoverlabel": {
           "align": "left"
          },
          "hovermode": "closest",
          "mapbox": {
           "style": "light"
          },
          "paper_bgcolor": "white",
          "plot_bgcolor": "#E5ECF6",
          "polar": {
           "angularaxis": {
            "gridcolor": "white",
            "linecolor": "white",
            "ticks": ""
           },
           "bgcolor": "#E5ECF6",
           "radialaxis": {
            "gridcolor": "white",
            "linecolor": "white",
            "ticks": ""
           }
          },
          "scene": {
           "xaxis": {
            "backgroundcolor": "#E5ECF6",
            "gridcolor": "white",
            "gridwidth": 2,
            "linecolor": "white",
            "showbackground": true,
            "ticks": "",
            "zerolinecolor": "white"
           },
           "yaxis": {
            "backgroundcolor": "#E5ECF6",
            "gridcolor": "white",
            "gridwidth": 2,
            "linecolor": "white",
            "showbackground": true,
            "ticks": "",
            "zerolinecolor": "white"
           },
           "zaxis": {
            "backgroundcolor": "#E5ECF6",
            "gridcolor": "white",
            "gridwidth": 2,
            "linecolor": "white",
            "showbackground": true,
            "ticks": "",
            "zerolinecolor": "white"
           }
          },
          "shapedefaults": {
           "line": {
            "color": "#2a3f5f"
           }
          },
          "ternary": {
           "aaxis": {
            "gridcolor": "white",
            "linecolor": "white",
            "ticks": ""
           },
           "baxis": {
            "gridcolor": "white",
            "linecolor": "white",
            "ticks": ""
           },
           "bgcolor": "#E5ECF6",
           "caxis": {
            "gridcolor": "white",
            "linecolor": "white",
            "ticks": ""
           }
          },
          "title": {
           "x": 0.05
          },
          "xaxis": {
           "automargin": true,
           "gridcolor": "white",
           "linecolor": "white",
           "ticks": "",
           "title": {
            "standoff": 15
           },
           "zerolinecolor": "white",
           "zerolinewidth": 2
          },
          "yaxis": {
           "automargin": true,
           "gridcolor": "white",
           "linecolor": "white",
           "ticks": "",
           "title": {
            "standoff": 15
           },
           "zerolinecolor": "white",
           "zerolinewidth": 2
          }
         }
        }
       }
      }
     },
     "metadata": {},
     "output_type": "display_data"
    }
   ],
   "source": [
    "import plotly.express as px\n",
    "# df = px.data.iris()\n",
    "# fig = px.scatter_3d(x=ds[:,0], y=ds[:,1], z=ds[:,2])\n",
    "fig = px.scatter_3d(x=smpls[:, 0], y=smpls[:, 1], z=smpls[:, 2])\n",
    "fig.show()\n",
    "fig.write_html(\"./file.html\")"
   ]
  },
  {
   "cell_type": "code",
   "execution_count": null,
   "metadata": {},
   "outputs": [],
   "source": []
  }
 ],
 "metadata": {
  "kernelspec": {
   "display_name": "Python 3",
   "language": "python",
   "name": "python3"
  },
  "language_info": {
   "codemirror_mode": {
    "name": "ipython",
    "version": 3
   },
   "file_extension": ".py",
   "mimetype": "text/x-python",
   "name": "python",
   "nbconvert_exporter": "python",
   "pygments_lexer": "ipython3",
   "version": "3.11.3"
  }
 },
 "nbformat": 4,
 "nbformat_minor": 2
}

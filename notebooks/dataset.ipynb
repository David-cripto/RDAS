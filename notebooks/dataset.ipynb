{
  "nbformat": 4,
  "nbformat_minor": 0,
  "metadata": {
    "colab": {
      "private_outputs": true,
      "provenance": []
    },
    "kernelspec": {
      "name": "python3",
      "display_name": "Python 3"
    },
    "language_info": {
      "name": "python"
    }
  },
  "cells": [
    {
      "cell_type": "code",
      "source": [
        "import numpy as np\n",
        "\n",
        "class DatasetGenerator:\n",
        "    def __init__(self, dim_of_space, dim_of_manifold):\n",
        "        self.dim_of_space = dim_of_space\n",
        "        self.dim_of_manifold = dim_of_manifold\n",
        "\n",
        "    def generate_dataset_in_subspace(self, n_samples):\n",
        "        \"\"\"\n",
        "        Generate a dataset that lies along a low-dimensional subspace within a high-dimensional space.\n",
        "\n",
        "        Parameters:\n",
        "        - num_samples: Number of data points to generate.\n",
        "        - dim_of_space: Dimension of the high-dimensional space (L).\n",
        "        - dim_of_subspace: Dimension of the low-dimensional subspace (l).\n",
        "\n",
        "        Returns:\n",
        "        - dataset: NumPy array with shape (num_samples, dim_of_space)\n",
        "        \"\"\"\n",
        "\n",
        "        # Generate a random orthonormal basis for the subspace\n",
        "        basis = np.linalg.qr(np.random.randn(self.dim_of_space, self.dim_of_manifold))[0]\n",
        "        # Generate random coefficients for the linear combination\n",
        "        coefficients = np.random.randn(n_samples, self.dim_of_manifold)\n",
        "        # Compute the dataset by projecting random points onto the subspace\n",
        "        dataset = np.dot(coefficients, basis.T)\n",
        "\n",
        "        return dataset\n",
        "\n",
        "    def generate_lines_planes(self, n_samples):\n",
        "        \"\"\"\n",
        "        Generate a dataset of straight lines in either a 2D plane or 3D space.\n",
        "\n",
        "        Parameters:\n",
        "        - n_samples: Number of samples in the dataset.\n",
        "        - plane: If True, generate lines in a 2D plane. If False, generate lines in 3D space.\n",
        "\n",
        "        Returns:\n",
        "        - dataset: NumPy array with shape (n_samples, dim_of_space)\n",
        "        \"\"\"\n",
        "        if self.dim_of_space not in [2, 3]:\n",
        "            raise ValueError(\"dim_of_space must be either 2 or 3.\")\n",
        "        dataset = np.zeros((n_samples, self.dim_of_space))\n",
        "        if self.dim_of_space == 2:\n",
        "            k, b = np.random.rand(2)\n",
        "            line_params = np.array([k, b])\n",
        "        else:\n",
        "            if self.dim_of_manifold == 2: # plane in 3D space\n",
        "                a, b, c = np.random.rand(3)\n",
        "                line_params = np.array([a, b, c])\n",
        "            if self.dim_of_manifold == 1:\n",
        "                p_0, p_1, p_2, x_0, y_0, z_0 = np.random.rand(6)\n",
        "\n",
        "        for i in range(n_samples):\n",
        "            # Generate random parameters for the line\n",
        "            if self.dim_of_space == 2:\n",
        "                x = np.random.rand()\n",
        "                y = k * x + b\n",
        "                dataset[i] = [x, y]\n",
        "            else:\n",
        "                if self.dim_of_manifold == 2:\n",
        "                    x = np.random.rand(self.dim_of_space - 1)\n",
        "                    y = a * x[0] + b * x[1] + c\n",
        "                    dataset[i] = [x[0], x[1], y]\n",
        "                if self.dim_of_manifold == 1:\n",
        "                    t = np.random.rand()\n",
        "                    x = x_0 + p_0 * t\n",
        "                    y = y_0 + p_1 * t\n",
        "                    z = z_0 + p_2 * t\n",
        "                    dataset[i] = [x, y, z]\n",
        "        return dataset\n"
      ],
      "metadata": {
        "id": "pX_1SfRuA8Ad"
      },
      "execution_count": null,
      "outputs": []
    },
    {
      "cell_type": "markdown",
      "source": [
        "### 1 Example"
      ],
      "metadata": {
        "id": "_Xyggi5zzgMG"
      }
    },
    {
      "cell_type": "code",
      "source": [
        "# Example usage:\n",
        "dim_of_space = 2\n",
        "dim_of_manifold = 1\n",
        "n_samples = 1000\n",
        "line_generator = DatasetGenerator(dim_of_space, dim_of_manifold)\n",
        "dataset = line_generator.generate_lines_planes(n_samples)\n",
        "print(dataset.shape)"
      ],
      "metadata": {
        "id": "YjEnEXyrCMkx"
      },
      "execution_count": null,
      "outputs": []
    },
    {
      "cell_type": "code",
      "source": [
        "import matplotlib.pyplot as plt\n",
        "plt.scatter(dataset[:, 0], dataset[:, 1], marker='o', label='Generated Points')\n",
        "\n",
        "\n",
        "plt.xlabel('X-axis')\n",
        "plt.ylabel('Y-axis')\n",
        "plt.legend()\n",
        "\n",
        "\n",
        "plt.show()"
      ],
      "metadata": {
        "id": "sDGqdcopDACN"
      },
      "execution_count": null,
      "outputs": []
    },
    {
      "cell_type": "markdown",
      "source": [
        "### 2 Example"
      ],
      "metadata": {
        "id": "y4OitTWDzuO9"
      }
    },
    {
      "cell_type": "code",
      "source": [
        "# Example usage:\n",
        "dim_of_space = 3\n",
        "dim_of_manifold = 2\n",
        "n_samples = 10000\n",
        "plane_generator = DatasetGenerator(dim_of_space, dim_of_manifold)\n",
        "dataset = plane_generator.generate_lines_planes(n_samples)\n",
        "print(dataset.shape)"
      ],
      "metadata": {
        "id": "iPW-SRZiDK5P"
      },
      "execution_count": null,
      "outputs": []
    },
    {
      "cell_type": "code",
      "source": [
        "import matplotlib.pyplot as plt\n",
        "from mpl_toolkits.mplot3d import Axes3D\n",
        "\n",
        "fig = plt.figure()\n",
        "ax = fig.add_subplot(111, projection='3d')\n",
        "ax.scatter(dataset[:, 0], dataset[:, 1], dataset[:, 2], marker='o', label='Generated Points')\n",
        "\n",
        "ax.set_xlabel('X-axis')\n",
        "ax.set_ylabel('Y-axis')\n",
        "ax.set_zlabel('Z-axis')\n",
        "ax.legend()\n",
        "\n",
        "plt.show()\n"
      ],
      "metadata": {
        "id": "bMqILFfZEZlR"
      },
      "execution_count": null,
      "outputs": []
    },
    {
      "cell_type": "markdown",
      "source": [
        "### 3 Example"
      ],
      "metadata": {
        "id": "m_-O6vOTz0z3"
      }
    },
    {
      "cell_type": "code",
      "source": [
        "dim_of_space = 3\n",
        "dim_of_manifold = 1\n",
        "n_samples = 1000\n",
        "\n",
        "plane_generator = DatasetGenerator(dim_of_space, dim_of_manifold)\n",
        "dataset = plane_generator.generate_lines_planes(n_samples)\n",
        "print(dataset.shape)\n",
        "\n",
        "fig = plt.figure()\n",
        "ax = fig.add_subplot(111, projection='3d')\n",
        "ax.scatter(dataset[:, 0], dataset[:, 1], dataset[:, 2], marker='o', label='Generated Points')\n",
        "ax.set_xlabel('X-axis')\n",
        "ax.set_ylabel('Y-axis')\n",
        "ax.set_zlabel('Z-axis')\n",
        "ax.legend()\n",
        "plt.show()"
      ],
      "metadata": {
        "id": "pRYaL6F_EnFN"
      },
      "execution_count": null,
      "outputs": []
    },
    {
      "cell_type": "markdown",
      "source": [
        "### 4 Example"
      ],
      "metadata": {
        "id": "Hs1eD9L40Q-3"
      }
    },
    {
      "cell_type": "code",
      "source": [
        "n_samples = 100\n",
        "dim_of_space = 50\n",
        "dim_of_manifold = 5\n",
        "\n",
        "plane_generator = DatasetGenerator(dim_of_space, dim_of_manifold)\n",
        "dataset = plane_generator.generate_dataset_in_subspace(n_samples)\n",
        "\n",
        "print(dataset.shape)  # (100, 50)\n",
        "\n",
        "rank_check = np.linalg.matrix_rank(dataset) == dim_of_manifold\n",
        "print(\"Dimensionality Check:\", rank_check)"
      ],
      "metadata": {
        "id": "3o28eNoXEqmg"
      },
      "execution_count": null,
      "outputs": []
    }
  ]
}
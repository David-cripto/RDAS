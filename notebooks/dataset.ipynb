{
  "nbformat": 4,
  "nbformat_minor": 0,
  "metadata": {
    "colab": {
      "private_outputs": true,
      "provenance": []
    },
    "kernelspec": {
      "name": "python3",
      "display_name": "Python 3"
    },
    "language_info": {
      "name": "python"
    }
  },
  "cells": [
    {
      "cell_type": "code",
      "source": [
        "import numpy as np\n",
        "\n",
        "class DatasetGenerator:\n",
        "    def __init__(self, dim_of_space, dim_of_manifold):\n",
        "        self.dim_of_space = dim_of_space\n",
        "        self.dim_of_manifold = dim_of_manifold\n",
        "\n",
        "    def generate_dataset_in_subspace(self, n_samples):\n",
        "        \"\"\"\n",
        "        Generate a dataset that lies along a low-dimensional subspace within a high-dimensional space.\n",
        "\n",
        "        Parameters:\n",
        "        - num_samples: Number of data points to generate.\n",
        "        - dim_of_space: Dimension of the high-dimensional space (L).\n",
        "        - dim_of_subspace: Dimension of the low-dimensional subspace (l).\n",
        "\n",
        "        Returns:\n",
        "        - dataset: NumPy array with shape (num_samples, dim_of_space)\n",
        "        \"\"\"\n",
        "\n",
        "        # Generate a random orthonormal basis for the subspace\n",
        "        basis = np.linalg.qr(np.random.randn(self.dim_of_space, self.dim_of_manifold))[0]\n",
        "        # Generate random coefficients for the linear combination\n",
        "        coefficients = np.random.randn(n_samples, self.dim_of_manifold)\n",
        "        # Compute the dataset by projecting random points onto the subspace\n",
        "        dataset = np.dot(coefficients, basis.T)\n",
        "\n",
        "        return dataset\n",
        "\n",
        "    def generate_lines_planes(self, n_samples, scale, noise):\n",
        "        \"\"\"\n",
        "        Generate a dataset of straight lines in either a 2D plane or 3D space.\n",
        "\n",
        "        Parameters:\n",
        "        - n_samples: Number of samples in the dataset.\n",
        "        - plane: If True, generate lines in a 2D plane. If False, generate lines in 3D space.\n",
        "\n",
        "        Returns:\n",
        "        - dataset: NumPy array with shape (n_samples, dim_of_space)\n",
        "        \"\"\"\n",
        "        if self.dim_of_space not in [2, 3]:\n",
        "            raise ValueError(\"dim_of_space must be either 2 or 3.\")\n",
        "        dataset = np.zeros((n_samples, self.dim_of_space))\n",
        "        if self.dim_of_space == 2:\n",
        "            k, b = np.random.rand(2)\n",
        "            line_params = np.array([k, b])\n",
        "        else:\n",
        "            if self.dim_of_manifold == 2: # plane in 3D space\n",
        "                a, b, c = np.random.rand(3)\n",
        "                line_params = np.array([a, b, c])\n",
        "            if self.dim_of_manifold == 1:\n",
        "                p_0, p_1, p_2, x_0, y_0, z_0 = np.random.rand(6)\n",
        "\n",
        "        for i in range(n_samples):\n",
        "            eps = noise * np.random.normal()\n",
        "            # Generate random parameters for the line\n",
        "            if self.dim_of_space == 2:\n",
        "                x = scale * np.random.rand()\n",
        "                y = k * x + b + eps\n",
        "                dataset[i] = [x, y]\n",
        "            else:\n",
        "                if self.dim_of_manifold == 2:\n",
        "                    x = scale * np.random.rand(self.dim_of_space - 1)\n",
        "                    y = a * x[0] + b * x[1] + c + eps\n",
        "                    dataset[i] = [x[0], x[1], y]\n",
        "                if self.dim_of_manifold == 1:\n",
        "\n",
        "                    t = scale * np.random.rand()\n",
        "                    x = x_0 + p_0 * t + noise * np.random.normal()\n",
        "                    y = y_0 + p_1 * t + noise * np.random.normal()\n",
        "                    z = z_0 + p_2 * t + noise * np.random.normal()\n",
        "                    dataset[i] = [x, y, z]\n",
        "        return dataset\n"
      ],
      "metadata": {
        "id": "pX_1SfRuA8Ad"
      },
      "execution_count": null,
      "outputs": []
    },
    {
      "cell_type": "markdown",
      "source": [
        "### 1 Example"
      ],
      "metadata": {
        "id": "_Xyggi5zzgMG"
      }
    },
    {
      "cell_type": "code",
      "source": [
        "# Example usage:\n",
        "\n",
        "import matplotlib.pyplot as plt\n",
        "dim_of_space = 2\n",
        "dim_of_manifold = 1\n",
        "n_samples = 100\n",
        "line_generator = DatasetGenerator(dim_of_space, dim_of_manifold)\n",
        "dataset = line_generator.generate_lines_planes(n_samples, scale=10,noise = 0.1)\n",
        "print(dataset.shape)\n",
        "\n",
        "plt.scatter(dataset[:, 0], dataset[:, 1], marker='o', label='Generated Points')\n",
        "plt.xlabel('X-axis')\n",
        "plt.ylabel('Y-axis')\n",
        "plt.legend()\n",
        "\n",
        "\n",
        "plt.show()"
      ],
      "metadata": {
        "id": "sDGqdcopDACN"
      },
      "execution_count": null,
      "outputs": []
    },
    {
      "cell_type": "markdown",
      "source": [
        "### 2 Example"
      ],
      "metadata": {
        "id": "y4OitTWDzuO9"
      }
    },
    {
      "cell_type": "code",
      "source": [
        "# Example usage:\n",
        "dim_of_space = 3\n",
        "dim_of_manifold = 2\n",
        "n_samples = 10000\n",
        "plane_generator = DatasetGenerator(dim_of_space, dim_of_manifold)\n",
        "dataset = plane_generator.generate_lines_planes(n_samples, scale=10,noise = 1)\n",
        "print(dataset.shape)"
      ],
      "metadata": {
        "id": "iPW-SRZiDK5P"
      },
      "execution_count": null,
      "outputs": []
    },
    {
      "cell_type": "code",
      "source": [
        "import matplotlib.pyplot as plt\n",
        "from mpl_toolkits.mplot3d import Axes3D\n",
        "\n",
        "fig = plt.figure()\n",
        "ax = fig.add_subplot(111, projection='3d')\n",
        "ax.scatter(dataset[:, 0], dataset[:, 1], dataset[:, 2], marker='o', label='Generated Points')\n",
        "\n",
        "ax.set_xlabel('X-axis')\n",
        "ax.set_ylabel('Y-axis')\n",
        "ax.set_zlabel('Z-axis')\n",
        "ax.legend()\n",
        "\n",
        "plt.show()\n"
      ],
      "metadata": {
        "id": "bMqILFfZEZlR"
      },
      "execution_count": null,
      "outputs": []
    },
    {
      "cell_type": "markdown",
      "source": [
        "### 3 Example"
      ],
      "metadata": {
        "id": "m_-O6vOTz0z3"
      }
    },
    {
      "cell_type": "code",
      "source": [
        "dim_of_space = 3\n",
        "dim_of_manifold = 1\n",
        "n_samples = 1000\n",
        "\n",
        "plane_generator = DatasetGenerator(dim_of_space, dim_of_manifold)\n",
        "dataset = plane_generator.generate_lines_planes(n_samples, scale =10 , noise =0.01)\n",
        "print(dataset.shape)\n",
        "\n",
        "fig = plt.figure()\n",
        "ax = fig.add_subplot(111, projection='3d')\n",
        "ax.scatter(dataset[:, 0], dataset[:, 1], dataset[:, 2], marker='o', label='Generated Points')\n",
        "ax.set_xlabel('X-axis')\n",
        "ax.set_ylabel('Y-axis')\n",
        "ax.set_zlabel('Z-axis')\n",
        "ax.legend()\n",
        "plt.show()"
      ],
      "metadata": {
        "id": "pRYaL6F_EnFN"
      },
      "execution_count": null,
      "outputs": []
    },
    {
      "cell_type": "markdown",
      "source": [
        "### 4 Example"
      ],
      "metadata": {
        "id": "Hs1eD9L40Q-3"
      }
    },
    {
      "cell_type": "code",
      "source": [
        "n_samples = 100\n",
        "dim_of_space = 50\n",
        "dim_of_manifold = 5\n",
        "\n",
        "plane_generator = DatasetGenerator(dim_of_space, dim_of_manifold)\n",
        "dataset = plane_generator.generate_dataset_in_subspace(n_samples)\n",
        "\n",
        "print(dataset.shape)  # (100, 50)\n",
        "\n",
        "rank_check = np.linalg.matrix_rank(dataset) == dim_of_manifold\n",
        "print(\"Dimensionality Check:\", rank_check)"
      ],
      "metadata": {
        "id": "3o28eNoXEqmg"
      },
      "execution_count": null,
      "outputs": []
    },
    {
      "cell_type": "markdown",
      "source": [
        "5 Example"
      ],
      "metadata": {
        "id": "UxpSeEBrn16R"
      }
    },
    {
      "cell_type": "code",
      "source": [
        "import numpy as np\n",
        "import matplotlib.pyplot as plt\n",
        "\n",
        "class KSquareDataset:\n",
        "    def __init__(self, ambient_dim=32, num_squares=1, square_size=3):\n",
        "        self.ambient_dim = ambient_dim\n",
        "        self.num_squares = num_squares\n",
        "        self.square_size = square_size\n",
        "\n",
        "    def generate_dataset(self, num_samples):\n",
        "        dataset = []\n",
        "        for _ in range(num_samples):\n",
        "            # Initialize an empty image\n",
        "            image = np.zeros((self.ambient_dim, self.ambient_dim))\n",
        "\n",
        "            # Add squares to the image\n",
        "            for _ in range(self.num_squares):\n",
        "                center_x, center_y = np.random.randint(self.square_size, self.ambient_dim - self.square_size, size=2)\n",
        "                brightness = np.random.uniform(0, 1)\n",
        "\n",
        "                # Add the square to the image\n",
        "                square = np.ones((self.square_size, self.square_size)) * brightness\n",
        "                image[center_x:center_x + self.square_size, center_y:center_y + self.square_size] += square[:self.ambient_dim - center_x, :self.ambient_dim - center_y]\n",
        "\n",
        "            # Clip the values to be in the range [0, 1]\n",
        "            image = np.clip(image, 0, 1)\n",
        "\n",
        "            dataset.append(image)\n",
        "\n",
        "        return np.array(dataset)\n"
      ],
      "metadata": {
        "id": "SE5h_wvV2nov"
      },
      "execution_count": null,
      "outputs": []
    },
    {
      "cell_type": "code",
      "source": [
        "# Example usage:\n",
        "ambient_dim = 32\n",
        "num_squares = 30\n",
        "square_size = 3\n",
        "num_samples = 5\n",
        "\n",
        "ksquare_dataset = KSquareDataset(ambient_dim=ambient_dim, num_squares=num_squares, square_size=square_size)\n",
        "dataset = ksquare_dataset.generate_dataset(num_samples)\n",
        "\n",
        "# Visualize a few examples\n",
        "for i in range(num_samples):\n",
        "    plt.subplot(1, num_samples, i + 1)\n",
        "    plt.imshow(dataset[i], cmap='gray')\n",
        "    plt.axis('off')\n",
        "\n",
        "plt.show()"
      ],
      "metadata": {
        "id": "cnf8sbRsnz6q"
      },
      "execution_count": null,
      "outputs": []
    },
    {
      "cell_type": "code",
      "source": [
        "plt.imshow(dataset[4], cmap='gray')\n",
        "plt.axis('off')"
      ],
      "metadata": {
        "id": "_0xRdmzFHRUn"
      },
      "execution_count": null,
      "outputs": []
    },
    {
      "cell_type": "code",
      "source": [
        "dataset.shape"
      ],
      "metadata": {
        "id": "LW0Np9mA-nBn"
      },
      "execution_count": null,
      "outputs": []
    },
    {
      "cell_type": "code",
      "source": [],
      "metadata": {
        "id": "UCkHiYkWn8y_"
      },
      "execution_count": null,
      "outputs": []
    }
  ]
}